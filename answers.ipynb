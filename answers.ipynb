{
 "cells": [
  {
   "cell_type": "markdown",
   "metadata": {},
   "source": [
    "# Answers to exercises"
   ]
  },
  {
   "cell_type": "code",
   "execution_count": 1,
   "metadata": {
    "collapsed": true
   },
   "outputs": [],
   "source": [
    "import numpy"
   ]
  },
  {
   "cell_type": "markdown",
   "metadata": {},
   "source": [
    "### 2.1 Load, transform and save data set\n",
    "\n",
    "Load a data set from the internet, convert some of the data types of the columns, replace the missing values, select a subset of the columns, select a subset of the rows based on a condition, and then save the array to a file.\n",
    "\n",
    "One website where you can find a lot of data sets is:\n",
    "http://archive.ics.uci.edu/ml/datasets.html"
   ]
  },
  {
   "cell_type": "markdown",
   "metadata": {},
   "source": []
  },
  {
   "cell_type": "markdown",
   "metadata": {},
   "source": [
    "### 3.1) Transformation\n",
    "Load the iris train data set. Make sure that the data set is uploaded on your Jupyter server. The features are in array X. The features are the length and the width of the sepals and petals. The lengths and widths are measured in centimetres. Suppose we want to create the following transformations:\n",
    "- For the first feature (sepal lenght in cm) we want to transform it to inches (1 inch = 2,54 cm).\n",
    "- For the second feature (sepal width in cm) we want to transform it to a range in between 0 and 1.\n",
    "- For the third feature (petal length in cm) we want to transform it to a boolean expression indicating whether or not it is larger than the mean. (1 if larger than mean, and 0 otherwise). \n",
    "- For the fourth feature (petal width in cm) we want to transform it to the exponential function.\n",
    "\n",
    "Normally, when you will use the features to train an algorithm you will not change every feature from the same metric to different metrics, but most of the time the other way around. Most of the time, you will change features such that they have the same metric and that they are normalized. For now it is a good exercise to practice some transformations."
   ]
  },
  {
   "cell_type": "code",
   "execution_count": 48,
   "metadata": {
    "collapsed": false
   },
   "outputs": [
    {
     "name": "stdout",
     "output_type": "stream",
     "text": [
      "[[ 2.16535433  0.18181818  1.          3.32011692]\n",
      " [ 2.20472441  0.22727273  1.          3.66929667]\n",
      " [ 1.92913386  0.40909091  0.          1.10517092]\n",
      " [ 2.20472441  0.27272727  1.          7.3890561 ]\n",
      " [ 2.36220472  0.          0.          2.71828183]]\n"
     ]
    }
   ],
   "source": [
    "import csv\n",
    "\n",
    "def load_table(path):\n",
    "    reader = csv.reader(open(path), delimiter=' ')\n",
    "    return [ (row[0:-1], row[-1]) for row in reader ]\n",
    "\n",
    "X, Y = zip(*load_table('iris-train.txt'))\n",
    "X = numpy.array(X, dtype='float')\n",
    "\n",
    "X_new = X\n",
    "\n",
    "# feature 1\n",
    "X_new[:, 0] = X[:, 0] / 2.54\n",
    "# feature 2\n",
    "X_new[:, 1] = (X[:, 1] - X[:, 1].min()) / ( X[:, 1].max() - X[:, 1].min() )\n",
    "# feature 3\n",
    "X_new[:, 2] = (X[:, 2] >= numpy.mean(X[:, 2]))\n",
    "# feature 4\n",
    "X_new[:, 3] = numpy.exp(X[:, 3])\n",
    "\n",
    "print(X_new[0:5, :])"
   ]
  },
  {
   "cell_type": "markdown",
   "metadata": {},
   "source": [
    "### 3. 2) Practice with indexing in 2-dimensional arrays\n",
    "Create one 2-dimensional array, which will be called A, you are free to choose the content as long as it is either the integer or float data type.\n",
    "Then try to do the following things:\n",
    "- Compute the total sum of the elements in the array in two ways, first with the sum() function and second with using a loop instead of the sum() function.\n",
    "- Return the minimum of the entire array and the corresponding index, but transform the linear index into a row index and a column index. Think of a general formula to transform the linear index into a two dimensional index. Afterwards, you can check your result with the unravel_index() function.\n",
    "- Create another 2-dimensional array (B) with the same shape of A. Then sort the array A, and then sort array B on the same way as array A. For example, if the element A[1,4] is after sorting in position [0,0], then the element B[1,4] also has to be in position [0,0]. For this you can use the argsort method, see the documentation: http://docs.scipy.org/doc/numpy-1.10.0/reference/generated/numpy.argsort.html"
   ]
  },
  {
   "cell_type": "markdown",
   "metadata": {},
   "source": [
    "Answer: a general formula to transform the linear index into row and column index is the following: the column index is the remainder after division of the linear index by number of columns in A and the row index is the floor of the linear index divided by the number of columns. The unravel_index() function is exactly doing the transformation of a linear index into the row and column indices and it also works for higher dimensional matrices.\n",
    "\n",
    "For using the argsort() method on the entire array, the axis parameter have to be set to None. And to sort an array according to a given order the trick A[order] can be used. But note that if we used the argsort(axis=None) then it returns a linear index and we have to transform this linear index back to the matrix index, which can be done with the unravel_index() function."
   ]
  },
  {
   "cell_type": "code",
   "execution_count": 2,
   "metadata": {
    "collapsed": false
   },
   "outputs": [
    {
     "name": "stdout",
     "output_type": "stream",
     "text": [
      "[[ 6.  5.  4.  8.]\n",
      " [ 1.  8.  5.  1.]]\n",
      "Total sum with sum method:  38.0\n",
      "Total sum with for loops: 38.0\n",
      "Minimum is:  1.0 and linear index is  4\n",
      "Transform the linear index:  4  into row index:  1 and column index:  0\n",
      "Unravel_index gives indices:  (1, 0)\n"
     ]
    }
   ],
   "source": [
    "A = numpy.floor(10*numpy.random.random((2,4)))\n",
    "print(A)\n",
    "\n",
    "# total sum with sum method\n",
    "total_sum = A.sum().sum()\n",
    "print(\"Total sum with sum method: \", total_sum)\n",
    "\n",
    "# total sum with for loops\n",
    "total_sum = 0\n",
    "for row in A:\n",
    "    for element in row:\n",
    "        total_sum += element\n",
    "print(\"Total sum with for loops:\", total_sum)\n",
    "\n",
    "# minimum and linear index\n",
    "minimum = A.min()\n",
    "linear_index = A.argmin()\n",
    "\n",
    "# transform the linear index into row and column index\n",
    "n, m = A.shape\n",
    "row = int(numpy.floor(linear_index / m))\n",
    "column = linear_index % m\n",
    "print(\"Minimum is: \", minimum, \"and linear index is \", linear_index)\n",
    "print(\"Transform the linear index: \", linear_index, \" into row index: \", row, \"and column index: \", column)\n",
    "# you can check if you have done the transformation correctly when applying the unravel_index function\n",
    "print(\"Unravel_index gives indices: \", numpy.unravel_index(linear_index, A.shape))"
   ]
  },
  {
   "cell_type": "code",
   "execution_count": 3,
   "metadata": {
    "collapsed": false
   },
   "outputs": [
    {
     "name": "stdout",
     "output_type": "stream",
     "text": [
      "A: [[ 5.  5.  3.  4.]\n",
      " [ 8.  3.  9.  1.]]\n",
      "B: [[ 9.  5.  7.  0.]\n",
      " [ 9.  7.  6.  3.]]\n",
      "Argsort: [7 2 5 3 0 1 4 6]\n",
      "Sorted A:  [ 1.  3.  3.  4.  5.  5.  8.  9.]\n",
      "Sorted B:  [ 3.  7.  7.  0.  9.  5.  9.  6.]\n"
     ]
    }
   ],
   "source": [
    "# sorting\n",
    "A = numpy.floor(10*numpy.random.random((2,4)))\n",
    "B = numpy.floor(10*numpy.random.random((2,4)))\n",
    "print(\"A:\", A)\n",
    "print(\"B:\", B)\n",
    "C = A.argsort(axis = None)\n",
    "print(\"Argsort:\", C)\n",
    "print(\"Sorted A: \", A[numpy.unravel_index(C, A.shape)])\n",
    "print(\"Sorted B: \", B[numpy.unravel_index(C, A.shape)])"
   ]
  },
  {
   "cell_type": "markdown",
   "metadata": {},
   "source": [
    "### 3.3) Normalization\n",
    "Load the iris train data set. Make sure that the data set is on your Jupyter server. The features of the data set are located in the array X. Then calculate the basic statistics for every feature and then normalize the features."
   ]
  },
  {
   "cell_type": "code",
   "execution_count": 43,
   "metadata": {
    "collapsed": false
   },
   "outputs": [
    {
     "name": "stdout",
     "output_type": "stream",
     "text": [
      "Mean for every feature:  [ 5.896  3.036  4.042  1.334]\n",
      "Standard deviation for every feature:  [ 0.82388349  0.40927253  1.73263845  0.78092509]\n",
      "Normalization\n",
      "[[-0.3592741  -0.82096886  0.0911904  -0.04353811]\n",
      " [-1.2089088   0.15637502 -1.46712662 -1.58017717]\n",
      " [-0.3592741  -0.57663289  0.49519852  0.85283468]\n",
      " [ 0.12623144 -2.04264872 -0.02424049 -0.42769787]]\n"
     ]
    }
   ],
   "source": [
    "import csv\n",
    "\n",
    "def load_table(path):\n",
    "    reader = csv.reader(open(path), delimiter=' ')\n",
    "    return [ (row[0:-1], row[-1]) for row in reader ]\n",
    "\n",
    "X, Y = zip(*load_table('iris-train.txt'))\n",
    "X = numpy.array(X, dtype='float')\n",
    "\n",
    "X_normal = X\n",
    "print(\"Mean for every feature: \", numpy.mean(X, axis=0))\n",
    "print(\"Standard deviation for every feature: \", numpy.std(X, axis=0))\n",
    "\n",
    "print(\"Normalization\")\n",
    "for i in range(X.shape[1]):\n",
    "    X_normal[:, i] = (X[:, i] - numpy.mean(X[:, i]) ) /  numpy.std(X[:, i])\n",
    "print(X_normal[1:5, :])"
   ]
  },
  {
   "cell_type": "markdown",
   "metadata": {},
   "source": [
    "### 3.4) Number of subsequent equal values\n",
    "\n",
    "One application of the numpy.diff function is that you can use it to count the number of subsequent equal values. Take x = [10, 10, 10, 20, 20, 20, 20, 30, 30, 40, 40, 40, 40, 40] and return the unique values and the number of subsequent equal values. "
   ]
  },
  {
   "cell_type": "code",
   "execution_count": 117,
   "metadata": {
    "collapsed": false
   },
   "outputs": [
    {
     "name": "stdout",
     "output_type": "stream",
     "text": [
      "Unique values:  [10 20 30 40]\n",
      "Count:  [3 4 2 5]\n"
     ]
    }
   ],
   "source": [
    "x = numpy.array([10, 10, 10, 20, 20, 20, 20, 30, 30, 40, 40, 40, 40, 40])\n",
    "d = numpy.diff(x)\n",
    "i = numpy.nonzero((d > 0))\n",
    "i = numpy.hstack([i[0], x.shape[0]-1])\n",
    "y = x[i]\n",
    "i = numpy.hstack([0, i+1])\n",
    "c = numpy.diff(i)\n",
    "print(\"Unique values: \", y)\n",
    "print(\"Count: \", c)\n"
   ]
  },
  {
   "cell_type": "markdown",
   "metadata": {},
   "source": [
    "### 4.1) Element wise product and dot product\n",
    "Create two 2 by 3 arrays, which are called A and B. Where the contents of A are random numbers between 1 and 11 and the contents of B are the numbers 1 up to 6. First try to multiply the arrays elementwise and then try to multiply the arrays with the dot product. Which error gives the dot product and why is the dot product not working? Can you think of an operation on one of the matrices that can fix the problem?"
   ]
  },
  {
   "cell_type": "markdown",
   "metadata": {},
   "source": [
    "Answer: The reason why the dot product is not working is because of the shape of the matrices. The error message \"ValueError: shapes (2,3) and (2,3) not aligned: 3 (dim 1) != 2 (dim 0)\" is telling you this. Both matrices have the shape (2,3), but in order to apply the dot product the number of columns in A has to be the same as the number of rows in B. The dot product is possible if we change the shape of matrix B to (3,2). This can be done in two different ways, either by using the reshape function or by taking the transpose. Alternatively, we could change the shape of A to (3,2) and then take the dot product B * A. \n",
    "Note that the different methods all result in different matrices."
   ]
  },
  {
   "cell_type": "code",
   "execution_count": 7,
   "metadata": {
    "collapsed": false
   },
   "outputs": [
    {
     "name": "stdout",
     "output_type": "stream",
     "text": [
      "[[  8.28223023   1.7522902   10.5138572 ]\n",
      " [  1.83374827   3.11618221   7.10217603]]\n",
      "[[1 2 3]\n",
      " [4 5 6]]\n",
      "[[  8.28223023   3.50458041  31.5415716 ]\n",
      " [  7.33499309  15.58091107  42.61305617]]\n"
     ]
    },
    {
     "ename": "ValueError",
     "evalue": "shapes (2,3) and (2,3) not aligned: 3 (dim 1) != 2 (dim 0)",
     "output_type": "error",
     "traceback": [
      "\u001b[1;31m---------------------------------------------------------------------------\u001b[0m",
      "\u001b[1;31mValueError\u001b[0m                                Traceback (most recent call last)",
      "\u001b[1;32m<ipython-input-7-451a39ccbc36>\u001b[0m in \u001b[0;36m<module>\u001b[1;34m()\u001b[0m\n\u001b[0;32m      9\u001b[0m \u001b[1;33m\u001b[0m\u001b[0m\n\u001b[0;32m     10\u001b[0m \u001b[1;31m# dot product\u001b[0m\u001b[1;33m\u001b[0m\u001b[1;33m\u001b[0m\u001b[0m\n\u001b[1;32m---> 11\u001b[1;33m \u001b[0mD\u001b[0m \u001b[1;33m=\u001b[0m \u001b[0mA\u001b[0m\u001b[1;33m.\u001b[0m\u001b[0mdot\u001b[0m\u001b[1;33m(\u001b[0m\u001b[0mB\u001b[0m\u001b[1;33m)\u001b[0m\u001b[1;33m\u001b[0m\u001b[0m\n\u001b[0m\u001b[0;32m     12\u001b[0m \u001b[0mprint\u001b[0m\u001b[1;33m(\u001b[0m\u001b[0mD\u001b[0m\u001b[1;33m)\u001b[0m\u001b[1;33m\u001b[0m\u001b[0m\n\u001b[0;32m     13\u001b[0m \u001b[1;33m\u001b[0m\u001b[0m\n",
      "\u001b[1;31mValueError\u001b[0m: shapes (2,3) and (2,3) not aligned: 3 (dim 1) != 2 (dim 0)"
     ]
    }
   ],
   "source": [
    "A = 1 + (11-1)*numpy.random.random((2,3))\n",
    "B = numpy.arange(1, 7).reshape(2,3)\n",
    "print(A)\n",
    "print(B)\n",
    "\n",
    "# elementwise product\n",
    "C = A*B\n",
    "print(C)\n",
    "\n",
    "# dot product\n",
    "D = A.dot(B)\n",
    "print(D)\n",
    "\n",
    "# alternative dot product\n",
    "E = numpy.dot(A, B)\n",
    "print(E)\n"
   ]
  },
  {
   "cell_type": "code",
   "execution_count": 10,
   "metadata": {
    "collapsed": false
   },
   "outputs": [
    {
     "name": "stdout",
     "output_type": "stream",
     "text": [
      "[[ 64.63161975  88.34723639]\n",
      " [ 48.01168319  67.58799865]]\n",
      "[[  44.1736182   115.32046812]\n",
      " [  33.79399932   92.52294568]]\n"
     ]
    }
   ],
   "source": [
    "A = 1 + (11-1)*numpy.random.random((2,3))\n",
    "B = numpy.arange(1, 7).reshape(2,3)\n",
    "\n",
    "# in order to get the dot product working, we change the shape of B to (3,2)\n",
    "C = B.reshape(3,2)\n",
    "D = A.dot(C)\n",
    "print(D)\n",
    "\n",
    "# alternative solution which uses the transpose\n",
    "E = numpy.transpose(B)\n",
    "F = A.dot(E)\n",
    "print(F)"
   ]
  },
  {
   "cell_type": "markdown",
   "metadata": {},
   "source": [
    "### 4.2) Transpose\n",
    "Create two matrices (A and B) which are not square matrices such that you can calculate the dot product. Then calculate the following things: $(A*B)^T$ and $B^T * A^T$ where * is the dot product. What do you notice?"
   ]
  },
  {
   "cell_type": "markdown",
   "metadata": {},
   "source": [
    "Answer: What you will notice if you did it correctly is that $(A*B)^T = B^T * A^T$. This is a famous equation in linear algebra. For more information: http://www.math.nyu.edu/~neylon/linalgfall04/project1/dj/proptranspose.htm"
   ]
  },
  {
   "cell_type": "code",
   "execution_count": 16,
   "metadata": {
    "collapsed": false
   },
   "outputs": [
    {
     "name": "stdout",
     "output_type": "stream",
     "text": [
      "(A*B)^T = \n",
      "[[ 28 100]\n",
      " [ 31 112]]\n",
      "B^T * A^T = \n",
      "[[ 28 100]\n",
      " [ 31 112]]\n"
     ]
    }
   ],
   "source": [
    "A = numpy.arange(6).reshape(2,3)\n",
    "B = numpy.arange(6,12).reshape(3,2)\n",
    "C = numpy.transpose(numpy.dot(A, B))\n",
    "D = numpy.dot(numpy.transpose(B), numpy.transpose(A))\n",
    "print(\"(A*B)^T = \")\n",
    "print(C)\n",
    "print(\"B^T * A^T = \")\n",
    "print(D)"
   ]
  },
  {
   "cell_type": "markdown",
   "metadata": {},
   "source": [
    "### 4.3) Inverse\n",
    "Try to create a 2 by 2 matrix for which the determinant is equal to zero and then try to compute the inverse. When the determinant of a matrix is equal to zero, then the inverse has to give you an error message. Can you try to understand this error message? and after that fix the matrix such that the inverse exists. Hint: there is a simplified formula to calculate the determinant of a 2 by 2 matrix and using this formula you can easily choose the numbers in the matrix."
   ]
  },
  {
   "cell_type": "markdown",
   "metadata": {},
   "source": [
    "Answer: the formula for the determinant of a 2 by 2 matrix is det(A) = a*d - b*c. When you try to create the inverse then the error message will tell you that the matrix is singular, which means that the determinant is equal to zero."
   ]
  },
  {
   "cell_type": "code",
   "execution_count": 5,
   "metadata": {
    "collapsed": false
   },
   "outputs": [
    {
     "name": "stdout",
     "output_type": "stream",
     "text": [
      "0.0\n"
     ]
    },
    {
     "ename": "LinAlgError",
     "evalue": "Singular matrix",
     "output_type": "error",
     "traceback": [
      "\u001b[1;31m---------------------------------------------------------------------------\u001b[0m",
      "\u001b[1;31mLinAlgError\u001b[0m                               Traceback (most recent call last)",
      "\u001b[1;32m<ipython-input-5-374e4f1e861a>\u001b[0m in \u001b[0;36m<module>\u001b[1;34m()\u001b[0m\n\u001b[0;32m      1\u001b[0m \u001b[0mA\u001b[0m \u001b[1;33m=\u001b[0m \u001b[0mnumpy\u001b[0m\u001b[1;33m.\u001b[0m\u001b[0marray\u001b[0m\u001b[1;33m(\u001b[0m\u001b[1;33m[\u001b[0m\u001b[1;33m[\u001b[0m\u001b[1;36m1\u001b[0m\u001b[1;33m,\u001b[0m \u001b[1;36m2\u001b[0m\u001b[1;33m]\u001b[0m\u001b[1;33m,\u001b[0m \u001b[1;33m[\u001b[0m\u001b[1;36m1\u001b[0m\u001b[1;33m,\u001b[0m \u001b[1;36m2\u001b[0m\u001b[1;33m]\u001b[0m\u001b[1;33m]\u001b[0m\u001b[1;33m)\u001b[0m\u001b[1;33m\u001b[0m\u001b[0m\n\u001b[0;32m      2\u001b[0m \u001b[0mprint\u001b[0m\u001b[1;33m(\u001b[0m\u001b[0mnumpy\u001b[0m\u001b[1;33m.\u001b[0m\u001b[0mlinalg\u001b[0m\u001b[1;33m.\u001b[0m\u001b[0mdet\u001b[0m\u001b[1;33m(\u001b[0m\u001b[0mA\u001b[0m\u001b[1;33m)\u001b[0m\u001b[1;33m)\u001b[0m\u001b[1;33m\u001b[0m\u001b[0m\n\u001b[1;32m----> 3\u001b[1;33m \u001b[0mprint\u001b[0m\u001b[1;33m(\u001b[0m\u001b[0mnumpy\u001b[0m\u001b[1;33m.\u001b[0m\u001b[0mlinalg\u001b[0m\u001b[1;33m.\u001b[0m\u001b[0minv\u001b[0m\u001b[1;33m(\u001b[0m\u001b[0mA\u001b[0m\u001b[1;33m)\u001b[0m\u001b[1;33m)\u001b[0m\u001b[1;33m\u001b[0m\u001b[0m\n\u001b[0m",
      "\u001b[1;32m/usr/local/lib/python3.4/dist-packages/numpy-1.9.2-py3.4-linux-x86_64.egg/numpy/linalg/linalg.py\u001b[0m in \u001b[0;36minv\u001b[1;34m(a)\u001b[0m\n\u001b[0;32m    518\u001b[0m     \u001b[0msignature\u001b[0m \u001b[1;33m=\u001b[0m \u001b[1;34m'D->D'\u001b[0m \u001b[1;32mif\u001b[0m \u001b[0misComplexType\u001b[0m\u001b[1;33m(\u001b[0m\u001b[0mt\u001b[0m\u001b[1;33m)\u001b[0m \u001b[1;32melse\u001b[0m \u001b[1;34m'd->d'\u001b[0m\u001b[1;33m\u001b[0m\u001b[0m\n\u001b[0;32m    519\u001b[0m     \u001b[0mextobj\u001b[0m \u001b[1;33m=\u001b[0m \u001b[0mget_linalg_error_extobj\u001b[0m\u001b[1;33m(\u001b[0m\u001b[0m_raise_linalgerror_singular\u001b[0m\u001b[1;33m)\u001b[0m\u001b[1;33m\u001b[0m\u001b[0m\n\u001b[1;32m--> 520\u001b[1;33m     \u001b[0mainv\u001b[0m \u001b[1;33m=\u001b[0m \u001b[0m_umath_linalg\u001b[0m\u001b[1;33m.\u001b[0m\u001b[0minv\u001b[0m\u001b[1;33m(\u001b[0m\u001b[0ma\u001b[0m\u001b[1;33m,\u001b[0m \u001b[0msignature\u001b[0m\u001b[1;33m=\u001b[0m\u001b[0msignature\u001b[0m\u001b[1;33m,\u001b[0m \u001b[0mextobj\u001b[0m\u001b[1;33m=\u001b[0m\u001b[0mextobj\u001b[0m\u001b[1;33m)\u001b[0m\u001b[1;33m\u001b[0m\u001b[0m\n\u001b[0m\u001b[0;32m    521\u001b[0m     \u001b[1;32mreturn\u001b[0m \u001b[0mwrap\u001b[0m\u001b[1;33m(\u001b[0m\u001b[0mainv\u001b[0m\u001b[1;33m.\u001b[0m\u001b[0mastype\u001b[0m\u001b[1;33m(\u001b[0m\u001b[0mresult_t\u001b[0m\u001b[1;33m)\u001b[0m\u001b[1;33m)\u001b[0m\u001b[1;33m\u001b[0m\u001b[0m\n\u001b[0;32m    522\u001b[0m \u001b[1;33m\u001b[0m\u001b[0m\n",
      "\u001b[1;32m/usr/local/lib/python3.4/dist-packages/numpy-1.9.2-py3.4-linux-x86_64.egg/numpy/linalg/linalg.py\u001b[0m in \u001b[0;36m_raise_linalgerror_singular\u001b[1;34m(err, flag)\u001b[0m\n\u001b[0;32m     88\u001b[0m \u001b[1;33m\u001b[0m\u001b[0m\n\u001b[0;32m     89\u001b[0m \u001b[1;32mdef\u001b[0m \u001b[0m_raise_linalgerror_singular\u001b[0m\u001b[1;33m(\u001b[0m\u001b[0merr\u001b[0m\u001b[1;33m,\u001b[0m \u001b[0mflag\u001b[0m\u001b[1;33m)\u001b[0m\u001b[1;33m:\u001b[0m\u001b[1;33m\u001b[0m\u001b[0m\n\u001b[1;32m---> 90\u001b[1;33m     \u001b[1;32mraise\u001b[0m \u001b[0mLinAlgError\u001b[0m\u001b[1;33m(\u001b[0m\u001b[1;34m\"Singular matrix\"\u001b[0m\u001b[1;33m)\u001b[0m\u001b[1;33m\u001b[0m\u001b[0m\n\u001b[0m\u001b[0;32m     91\u001b[0m \u001b[1;33m\u001b[0m\u001b[0m\n\u001b[0;32m     92\u001b[0m \u001b[1;32mdef\u001b[0m \u001b[0m_raise_linalgerror_nonposdef\u001b[0m\u001b[1;33m(\u001b[0m\u001b[0merr\u001b[0m\u001b[1;33m,\u001b[0m \u001b[0mflag\u001b[0m\u001b[1;33m)\u001b[0m\u001b[1;33m:\u001b[0m\u001b[1;33m\u001b[0m\u001b[0m\n",
      "\u001b[1;31mLinAlgError\u001b[0m: Singular matrix"
     ]
    }
   ],
   "source": [
    "A = numpy.array([[1, 2], [1, 2]])\n",
    "print(\"Determinant: \", numpy.linalg.det(A))\n",
    "print(\"Inverse: \", numpy.linalg.inv(A))"
   ]
  },
  {
   "cell_type": "markdown",
   "metadata": {},
   "source": [
    "###  4.4) Euclidean distances\n",
    "Load the iris training data set (make sure that the data set is uploaded to your Jupyter server). \n",
    "Take the first n data points, which are the first n rows. Then calculate the pairwise distances between the data points based on the Euclidean distance. You can save the results in an array D, where D(i,j) is the Euclidean distance between data point i and j. Find the two closest data points (note that it is not allowed to return twice the same data point), and check whether or not the corresponding label is the same.  "
   ]
  },
  {
   "cell_type": "code",
   "execution_count": 34,
   "metadata": {
    "collapsed": false
   },
   "outputs": [
    {
     "name": "stdout",
     "output_type": "stream",
     "text": [
      "[[        inf  0.26457513  3.19843712  0.96953597  0.78102497]\n",
      " [        inf         inf  3.06267857  0.99498744  0.73484692]\n",
      " [        inf         inf         inf  3.96862697  3.01330383]\n",
      " [        inf         inf         inf         inf  1.52643375]\n",
      " [        inf         inf         inf         inf         inf]]\n",
      "The two closest data points are the rows with index 0 and 1 and the distance is 0.26457513110645914 and the labels are versicolor and versicolor     .\n"
     ]
    }
   ],
   "source": [
    "import csv\n",
    "\n",
    "def load_table(path):\n",
    "    reader = csv.reader(open(path), delimiter=' ')\n",
    "    return [ (row[0:-1], row[-1]) for row in reader ]\n",
    "\n",
    "X, Y = zip(*load_table('iris-train.txt'))\n",
    "X = numpy.array(X, dtype='float')\n",
    "\n",
    "n = 5\n",
    "X = X[0:n, :]\n",
    "Y = Y[0:n]\n",
    "\n",
    "D = (numpy.PINF)*numpy.ones((n,n))\n",
    "for i in range(n):\n",
    "    for j in range(i+1, n):\n",
    "        D[i,j] = numpy.linalg.norm((X[i,:] - X[j, :]), ord=2)\n",
    "print(D)\n",
    "\n",
    "minimum = D.min()\n",
    "index_minimum = numpy.unravel_index(D.argmin(), (n,n))\n",
    "print(\"The two closest data points are the rows with index {} and {} and the distance is {} and the labels are {} and {} \\\n",
    "    .\".format(index_minimum[0], index_minimum[1], minimum, Y[index_minimum[0]], Y[index_minimum[1]] ))\n"
   ]
  },
  {
   "cell_type": "markdown",
   "metadata": {},
   "source": [
    "### 4.5) Speed up calculations\n",
    "\n",
    "Try to make the exercises and make the code as efficient as possible and avoid using loops. \n",
    "- Create an 10000 by 10000 matrix with random numbers between 0 and 1. Then we want to divide all numbers that are larger than 0.5 by 2. You can check the result by computing the mean of the array before and after the operation. Measure the time it takes to run the code.\n",
    "- Create a matrix A = [[11, 12, 13, 14, 15], [21, 22, 23, 24, 25], [31, 32, 33, 34, 35]]. Find the indices for the elements which are multiples of 11 and the elements that are multiples of 11."
   ]
  },
  {
   "cell_type": "code",
   "execution_count": 61,
   "metadata": {
    "collapsed": false
   },
   "outputs": [
    {
     "name": "stdout",
     "output_type": "stream",
     "text": [
      "Mean before:  0.500043967725\n",
      "Mean after:  0.312515811166\n",
      "Execution time:  4.697339982000003\n",
      "Indices:  (array([0, 1, 2]), array([0, 1, 2]))\n",
      "Elements:  [11 22 33]\n"
     ]
    }
   ],
   "source": [
    "# divide all numbers that are larger than 0.5 by 2\n",
    "import time\n",
    "start = time.process_time()\n",
    "x = numpy.random.random((10000, 10000))\n",
    "print(\"Mean before: \", numpy.mean(x))\n",
    "i = x > 0.5\n",
    "x[i] = x[i]/2\n",
    "print(\"Mean after: \", numpy.mean(x))\n",
    "end = time.process_time()\n",
    "print(\"Execution time: \", end-start)\n",
    "\n",
    "# indices for the elements which are multiples of 11\n",
    "A = numpy.array( [[11, 12, 13, 14, 15], [21, 22, 23, 24, 25], [31, 32, 33, 34, 35]] )\n",
    "condition = (A % 11 == 0)\n",
    "print(\"Indices: \", numpy.where(condition))\n",
    "print(\"Elements: \", A[condition])\n"
   ]
  },
  {
   "cell_type": "markdown",
   "metadata": {},
   "source": [
    "### 4.6) Rounding grades\n",
    "\n",
    "Create a three dimensional matrix with shape (3, 3, 10) and random numbers (float) between 0 and 10. Then assume that these numbers are grades. For the exercises avoid using loops and try to create efficient code.\n",
    "\n",
    "- Now assume that this are the grades for 10 students which did 3 assignments and 3 questions per assignment, then calculate for each student the average grade over all the assignments given that every assignment and every question has equal weight.\n",
    "- Round these grades to halves, except for the numbers between 5 and 6, those are rounded to integers, since a rounded 5.5 is not given as grade. \n"
   ]
  },
  {
   "cell_type": "code",
   "execution_count": 74,
   "metadata": {
    "collapsed": false
   },
   "outputs": [
    {
     "name": "stdout",
     "output_type": "stream",
     "text": [
      "Average grade per student: \n",
      "[ 5.08684082  5.61091428  4.19889438  6.04894404  3.60938891  6.91047978\n",
      "  6.23495447  5.28813231  5.3985673   5.20395994]\n",
      "Rounded grades: \n",
      "[ 5.   6.   4.   6.   3.5  7.   6.   5.   5.   5. ]\n"
     ]
    }
   ],
   "source": [
    "# calculate average grade for every student\n",
    "x = 10*numpy.random.random((3,3,10))\n",
    "y = numpy.mean(numpy.mean(x, axis=0), axis=0)\n",
    "print(\"Average grade per student: \")\n",
    "print(y)\n",
    "\n",
    "# rounding grades\n",
    "i = numpy.logical_and(y > 5.0 , y < 6.0)\n",
    "y[i] = numpy.round(y[i])\n",
    "y = numpy.round(y*2)/2\n",
    "print(\"Rounded grades: \")\n",
    "print(y)\n",
    "\n"
   ]
  }
 ],
 "metadata": {
  "kernelspec": {
   "display_name": "Python 3",
   "language": "python",
   "name": "python3"
  },
  "language_info": {
   "codemirror_mode": {
    "name": "ipython",
    "version": 3
   },
   "file_extension": ".py",
   "mimetype": "text/x-python",
   "name": "python",
   "nbconvert_exporter": "python",
   "pygments_lexer": "ipython3",
   "version": "3.4.2"
  }
 },
 "nbformat": 4,
 "nbformat_minor": 0
}
