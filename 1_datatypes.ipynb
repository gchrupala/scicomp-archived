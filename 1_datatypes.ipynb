{
 "cells": [
  {
   "cell_type": "markdown",
   "metadata": {},
   "source": [
    "# 1. Data types"
   ]
  },
  {
   "cell_type": "markdown",
   "metadata": {},
   "source": [
    "### Install numpy\n",
    "\n",
    "If you want to use numpy on your own laptop, then you first have to install it. Numpy is already installed on the university's jupyter server.\n",
    "For more information about installing numpy: http://docs.scipy.org/doc/numpy-1.10.1/user/install.html\n",
    "\n",
    "In case you want to use Python also for other courses or for you thesis, then you might consider to install the whole scipy stack. This includes often used packages such as numpy, scipy, matplotlib, ipython and pandas. For more information: http://www.scipy.org/install.html"
   ]
  },
  {
   "cell_type": "markdown",
   "metadata": {},
   "source": [
    "### General information\n",
    "\n",
    "A useful short numpy tutorial: https://docs.scipy.org/doc/numpy-dev/user/quickstart.html\n",
    "Another website that explains the basics of numpy:\n",
    "https://www.safaribooksonline.com/library/view/python-for-data/9781449323592/ch04.html\n",
    "\n",
    "And if you want to know everything about a particular function, then you can access the reference: \n",
    "http://docs.scipy.org/doc/numpy/reference/index.html#reference or the user guide: http://docs.scipy.org/doc/numpy/user/index.html#user\n",
    "\n",
    "When you want to use functions from the numpy package, you first have to import numpy."
   ]
  },
  {
   "cell_type": "code",
   "execution_count": 32,
   "metadata": {
    "collapsed": true
   },
   "outputs": [],
   "source": [
    "import numpy"
   ]
  },
  {
   "cell_type": "markdown",
   "metadata": {},
   "source": [
    "### Data types in Python\n",
    "\n",
    "First a small recap is given of the data types in Python before the data types in Numpy are discussed. Python has some basic data types, which are:\n",
    "- boolean (True, False)\n",
    "- int (integer)\n",
    "- float\n",
    "- complex (a+bj, but in mathematics it is often denoted as a+bi)\n",
    "- str (string)\n",
    "- byte\n",
    "- list [ ]\n",
    "- tuple ( )\n",
    "- set\n",
    "- dict { } (dictionary)\n",
    "\n",
    "The types can be divided into immutable and mutable types. \n",
    "The content of immutable types cannot be changed after creation. \n",
    "Immutable data types: int, float, complex, str, and tuple.\n",
    "Mutable data types: list, set and dict."
   ]
  },
  {
   "cell_type": "markdown",
   "metadata": {},
   "source": [
    "### Data types in Numpy\n",
    "\n",
    "Data types in Numpy are a bit different than in basic Python.\n",
    "One array can only have one data type. \n",
    "The data type of the array x can be obtained with the x.dtype function. \n",
    "\n",
    "The 5 basic data types of a numerical variable are:\n",
    "- float (float16, float32, or float64)\n",
    "- integer (int8, int16, int32, or int64)\n",
    "- unsigned integer: this number cannot be negative (uint8, uint16, uint32, or uint64)\n",
    "- boolean (bool)\n",
    "- complex (complex64 or complex128)\n",
    "\n",
    "Other data types of a variable can be:\n",
    "- string (<U3 or <U64)\n",
    "\n",
    "The numbers 8, 16, 32, 64, 128 behind the data type are used to indicate the memory storage.\n",
    "The data type int8 only uses 1 byte and therefore this variable can only store a number in the range of -128 to 127. The number 8 is chosen to indicate the number of bits needed to store the variable. 1 byte contains 8 bits and a bit can have either value 0 or value 1. The data type int16 uses 2 bytes and therefore this variable can store a number in the range of -32768 to 32767. \n",
    "For the unsigned integer, the number can never by negative and therefore the data type uint8 can have a value in the range of 0 to 255, where 255 = 2^8 - 1. "
   ]
  },
  {
   "cell_type": "code",
   "execution_count": 4,
   "metadata": {
    "collapsed": false
   },
   "outputs": [
    {
     "name": "stdout",
     "output_type": "stream",
     "text": [
      "[1 3 5 7 9] int64\n",
      "[ 2.2  4.4  6.6  8.8] float64\n",
      "[ True False  True] bool\n"
     ]
    }
   ],
   "source": [
    "# array with integers:\n",
    "x = numpy.array([1, 3, 5, 7, 9])\n",
    "print(x, x.dtype)\n",
    "\n",
    "# array with floats:\n",
    "y = numpy.array([2.2, 4.4, 6.6, 8.8])\n",
    "print(y, y.dtype)\n",
    "\n",
    "# array with booleans:\n",
    "z = numpy.array([True, False, True])\n",
    "print(z, z.dtype)"
   ]
  },
  {
   "cell_type": "code",
   "execution_count": 25,
   "metadata": {
    "collapsed": false
   },
   "outputs": [
    {
     "name": "stdout",
     "output_type": "stream",
     "text": [
      "['a' 'b' 'cde'] <U3\n",
      "[ 2.2+3.2j  4.4+5.4j] complex128\n"
     ]
    }
   ],
   "source": [
    "# array with strings:\n",
    "x = numpy.array([\"a\", \"b\", \"cde\"])\n",
    "print(x, x.dtype)\n",
    "\n",
    "# array with complex numbers:\n",
    "y = numpy.array([2.2+3.2j, 4.4+5.4j])\n",
    "print(y, y.dtype)"
   ]
  },
  {
   "cell_type": "markdown",
   "metadata": {},
   "source": [
    "In case you mix different data types and you do not explicitly specify the data types, then the elements are converted to the same type. If you want, you can specify the data type of the array when you create the array with the array() function then you can use the dtype argument. Note that not every combination is possible. For example, when your array contains text then you cannot choose float as data types, because the text cannot be converted to floats, except when the text is exactly representing a floating point number."
   ]
  },
  {
   "cell_type": "code",
   "execution_count": 11,
   "metadata": {
    "collapsed": false
   },
   "outputs": [
    {
     "name": "stdout",
     "output_type": "stream",
     "text": [
      "['1' '3.4' 'True' '(2.3+4.5j)' 'a'] <U64\n",
      "[ 9.  8.  7.  6.] float64\n"
     ]
    }
   ],
   "source": [
    "# array with mixed data types:\n",
    "x = numpy.array([1, 3.4, True, 2.3+4.5j, \"a\"])\n",
    "print(x, x.dtype)\n",
    "\n",
    "# explicitly specify the data type:\n",
    "y = numpy.array([9, 8, 7, 6], dtype = float)\n",
    "print(y, y.dtype)"
   ]
  },
  {
   "cell_type": "markdown",
   "metadata": {},
   "source": [
    "### Convert to a different data type\n",
    "\n",
    "Let's assume you created an array x with the datatype integer and you want to convert it afterwards to the data type float, then you can use the astype() function. For example, x.astype(float) to convert x to the data type float. \n",
    "Converting data types is called casting. "
   ]
  },
  {
   "cell_type": "code",
   "execution_count": 15,
   "metadata": {
    "collapsed": false
   },
   "outputs": [
    {
     "name": "stdout",
     "output_type": "stream",
     "text": [
      "[1 3 5 7 9] int64\n",
      "[ 1.  3.  5.  7.  9.] float64\n",
      "\n",
      "['1.4' '3.4' '5.4'] <U3\n",
      "[ 1.4  3.4  5.4] float64\n"
     ]
    }
   ],
   "source": [
    "# convert an array with integers to the data type float:\n",
    "x = numpy.array([1, 3, 5, 7, 9])\n",
    "print(x, x.dtype)\n",
    "g = x.astype(float)\n",
    "print(g, g.dtype)\n",
    "print()\n",
    "\n",
    "# convert an array with strings to float:\n",
    "y = numpy.array([\"1.4\", \"3.4\", \"5.4\"])\n",
    "print(y, y.dtype)\n",
    "h = y.astype(float)\n",
    "print(h, h.dtype)"
   ]
  },
  {
   "cell_type": "markdown",
   "metadata": {},
   "source": [
    "Sometimes, the data types are converted but the content is slightly changed. \n",
    "For example, when converting from float to integer, then the numbers are rounded (floor). \n",
    "For example, when converting an array with only zeros and ones to the data type Boolean than the 0 is converted to False and the 1 is converted to True. "
   ]
  },
  {
   "cell_type": "code",
   "execution_count": 24,
   "metadata": {
    "collapsed": false
   },
   "outputs": [
    {
     "name": "stdout",
     "output_type": "stream",
     "text": [
      "[ 2.2  3.2  2.8] float64\n",
      "[2 3 2] int64\n",
      "\n",
      "[0 1 1 0] int64\n",
      "[False  True  True False] bool\n"
     ]
    }
   ],
   "source": [
    "# from float to integer\n",
    "x = numpy.array([2.2, 3.2, 2.8])\n",
    "print(x, x.dtype)\n",
    "a = x.astype(int)\n",
    "print(a, a.dtype)\n",
    "print()\n",
    "\n",
    "# from 0-1 to boolean\n",
    "x = numpy.array([0, 1, 1, 0])\n",
    "3print(x, x.dtype)\n",
    "a = x.astype(bool)\n",
    "print(a, a.dtype)"
   ]
  },
  {
   "cell_type": "markdown",
   "metadata": {},
   "source": [
    "Not every data type can be converted to all other data types. Some examples:\n",
    "- String to Boolean when for example x = [\"a\", \"b\", \"c\"]\n",
    "- String to Integer when for example x = [\"a\", \"b\", \"c\"]"
   ]
  },
  {
   "cell_type": "markdown",
   "metadata": {},
   "source": [
    "### Some important things\n",
    "\n",
    "In Numpy, division by zero results in inf (infinity) and a RuntimeWarning. \n",
    "In basic Python, division by zero results in the ZeroDivisionError message."
   ]
  },
  {
   "cell_type": "code",
   "execution_count": 30,
   "metadata": {
    "collapsed": false
   },
   "outputs": [
    {
     "name": "stdout",
     "output_type": "stream",
     "text": [
      "[ inf]\n"
     ]
    },
    {
     "name": "stderr",
     "output_type": "stream",
     "text": [
      "/usr/local/lib/python3.4/dist-packages/IPython/kernel/__main__.py:4: RuntimeWarning: divide by zero encountered in true_divide\n"
     ]
    }
   ],
   "source": [
    "# divison by zero in Numpy\n",
    "x = numpy.array([4])\n",
    "y = numpy.array([0])\n",
    "print(x/y)"
   ]
  },
  {
   "cell_type": "markdown",
   "metadata": {},
   "source": [
    "When you want to use infinity as a value for your variable or inside your array, then you can use the following expressions:\n",
    "- numpy.inf for infinity\n",
    "- numpy.PINF for positive infinity\n",
    "- numpy.NINF for negative infinity\n",
    "\n",
    "In order to check whether the variables has value infinity the following functions can be useful:\n",
    "- numpy.isinf(x) : This function returns True when the value of x is either positive infinity or negative infinity. \n",
    "- numpy.isneginf(x) : This function returns True when the value of x is negative infinity.\n",
    "- numpy.isposinf(x) : This function returns True when the value of x is positive infinity.\n",
    "- numpy.isfinite(x) : This function is the opposite of the isinf() function.\n",
    "\n",
    "Then there is something called Not A Number (NAN):\n",
    "- numpy.nan : Create NAN value\n",
    "- numpy.isnan(x) : This function returns True when the value of x is Not A Number (NAN)."
   ]
  }
 ],
 "metadata": {
  "kernelspec": {
   "display_name": "Python 3",
   "language": "python",
   "name": "python3"
  },
  "language_info": {
   "codemirror_mode": {
    "name": "ipython",
    "version": 3
   },
   "file_extension": ".py",
   "mimetype": "text/x-python",
   "name": "python",
   "nbconvert_exporter": "python",
   "pygments_lexer": "ipython3",
   "version": "3.4.2"
  }
 },
 "nbformat": 4,
 "nbformat_minor": 0
}
