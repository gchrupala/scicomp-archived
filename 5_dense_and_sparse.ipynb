{
 "cells": [
  {
   "cell_type": "markdown",
   "metadata": {},
   "source": [
    "# 5. Dense and sparse matrices\n",
    "\n",
    "In this notebook next to NumPy also SciPy is used. SciPy is a library for (mathematical) functions that are often used in scientific research.\n",
    "It consists of function for optimization, interpolation, integration, linear algebra, statistics and other topics.\n",
    "SciPy also has functions to work with sparse matrices, and therefore SciPy is used in this notebook.\n",
    "Make sure that when you are not working on the Jupyter server of the university that you install the SciPy package first.\n",
    "Since we will work in this notebook with the sparse submodule of the SciPy package we have to import this module separately.\n",
    "\n",
    "For more information about SciPy visit the following website:\n",
    "http://docs.scipy.org/doc/scipy/reference/tutorial/index.html"
   ]
  },
  {
   "cell_type": "code",
   "execution_count": 3,
   "metadata": {
    "collapsed": true
   },
   "outputs": [],
   "source": [
    "import numpy\n",
    "import scipy\n",
    "import scipy.sparse"
   ]
  },
  {
   "cell_type": "markdown",
   "metadata": {},
   "source": [
    "### Dense versus Sparse matrices\n",
    "\n",
    "A dense matrix is a matrix with a lot of nonzero elements.\n",
    "A sparse matrix is the opposite and contains of a lot of zeros. \n",
    "\n",
    "The level of sparsity or density is an indication of how sparse or dense the matrix is.\n",
    "The sparsity/density can be computed by dividing the number of nonzero elements by the total number of elements.\n",
    "When this number is low, then the matrix contains a lot of zeros and therefore the matrix is called sparse.\n",
    "When this number is high, then the matrix contains no or only a few zeros and therefore the matrix is called dense.\n",
    "\n",
    "When a matrix contains only a few nonzero elements then a sparse representation of the matrix can be used instead of the full matrix. A sparse representation is a represenation in which only the nonzero elements are stored. There are several different sparse representations but they will be discussed later on.\n",
    "\n",
    "In the case where the matrix is large and sparse it will be beneficial to use a sparse representation of the matrix.\n",
    "The advantage of using a sparse matrix representation are:\n",
    "- Memory; less memory is needed to store the matrix since the zero elements are not stored.\n",
    "- Efficiency; using a sparse matrix in functions or loops can speed up the process in comparison with using a dense representation of the matrix since the zero elements are skipped in the sparse representation.\n"
   ]
  },
  {
   "cell_type": "markdown",
   "metadata": {},
   "source": [
    "### Different ways to store a sparse matrix\n",
    "\n",
    "There are several different sparse matrix classes in SciPy:\n",
    "- Dictionary of keys (dok_matrix)\n",
    "- List of lists (lil_matrix)\n",
    "- Coordinate list (coo_matrix)\n",
    "- Diagonal storage (dia_matrix)\n",
    "- Compressed sparse column (csc_matrix)\n",
    "- Compressed sparse row (csr_matrix)\n",
    "- Block sparse row matrix (bsr_matrix)\n",
    "\n",
    "Below every different sparse matrix class will be discussed separately.\n",
    "For more information: http://docs.scipy.org/doc/scipy/reference/sparse.html"
   ]
  },
  {
   "cell_type": "markdown",
   "metadata": {},
   "source": [
    "#### Dictionary of keys\n",
    "\n",
    "As the name already indicates the dictionary of keys is a dictionary format where every key in the dictionary represents the row and column indices of the element and the value in the dictionary represents the value of the element at that particular position. All the elements with value 0 are simply ignored and not present in the dictionary.\n",
    "\n",
    "To create a dictionary of keys representation given the dense matrix (D) you can use the following function: \n",
    "scipy.sparse.dok_matrix(D, shape=(nrows, ncols), dtype= ) \n",
    "The results is a dictionary where the key contains of the tuple (rowindex, columnindex) and the value of the dictionary contains the value of the element in this position."
   ]
  },
  {
   "cell_type": "code",
   "execution_count": 7,
   "metadata": {
    "collapsed": false
   },
   "outputs": [
    {
     "name": "stdout",
     "output_type": "stream",
     "text": [
      "  (2, 0)\t1\n",
      "  (1, 0)\t1\n",
      "  (0, 0)\t1\n",
      "  (1, 1)\t1\n",
      "  (2, 1)\t1\n"
     ]
    }
   ],
   "source": [
    "# create a 3 by 3 matrix with only zeros and ones randomly and then transform this to the dictionary of keys representation\n",
    "D = numpy.round(numpy.random.random((3,3)))\n",
    "S = scipy.sparse.dok_matrix(D, shape=(3, 3), dtype=numpy.int32)\n",
    "print(S)"
   ]
  },
  {
   "cell_type": "markdown",
   "metadata": {},
   "source": [
    "#### List of lists \n",
    "\n",
    "For every row in the matrix with one or more nonzero elements a list is made.\n",
    "In this list each element is the tuple of the column index and the corresponding value.\n",
    "The column indices are sorted per list.\n",
    "\n",
    "scipy.sparse.lil_matrix(D, shape=(nrows, ncols), dtype=)\n"
   ]
  },
  {
   "cell_type": "code",
   "execution_count": 9,
   "metadata": {
    "collapsed": false
   },
   "outputs": [
    {
     "name": "stdout",
     "output_type": "stream",
     "text": [
      "  (0, 0)\t1\n",
      "  (0, 2)\t1\n",
      "  (1, 1)\t1\n",
      "  (2, 0)\t1\n",
      "  (2, 2)\t1\n"
     ]
    }
   ],
   "source": [
    "# create a 3 by 3 matrix with only zeros and ones randomly and then transform this to list of lists representation\n",
    "D = numpy.round(numpy.random.random((3,3)))\n",
    "S = scipy.sparse.lil_matrix(D, shape=(3,3), dtype=numpy.int32)\n",
    "print(S)"
   ]
  },
  {
   "cell_type": "markdown",
   "metadata": {},
   "source": [
    "#### Coordinate list\n",
    "\n",
    "The coordinate list consists of a list of tuples (rowindex, columnindex, value). \n",
    "The elements are sorted first by rowindex and then by columnindex.\n",
    "\n",
    "scipy.sparse.coo_matrix(D, shape=(nrows, ncols), dtype=)\n"
   ]
  },
  {
   "cell_type": "code",
   "execution_count": 10,
   "metadata": {
    "collapsed": false
   },
   "outputs": [
    {
     "name": "stdout",
     "output_type": "stream",
     "text": [
      "  (0, 0)\t1\n",
      "  (1, 0)\t1\n",
      "  (2, 0)\t1\n",
      "  (2, 1)\t1\n"
     ]
    }
   ],
   "source": [
    "D = numpy.round(numpy.random.random((3,3)))\n",
    "S = scipy.sparse.coo_matrix(D, shape=(3,3), dtype=numpy.int32)\n",
    "print(S)"
   ]
  },
  {
   "cell_type": "markdown",
   "metadata": {},
   "source": [
    "### Functions to create a sparse matrix\n",
    "\n",
    "When in a built-in function the format is needed, then the three letters abbreviations of the sparse representations are used as string, which are dok, lil, coo, csr, csc, dia, and bsr. \n",
    "\n",
    "There are several built-in functions to create a special matrix in a sparse representation. Some examples:\n",
    "- Create the m by n identity matrix with the ones on the diagonal (k=0 is the main diagonal):  scipy.sparse.eye(m, n, k, dtype=, format= )\n",
    "- Create a m by n matrix with random elements (floats between 0 and 1) and the density of the matrix can be given: scipy.sparse.rand(m, n, density=, format=, dtype= )"
   ]
  },
  {
   "cell_type": "code",
   "execution_count": 13,
   "metadata": {
    "collapsed": false
   },
   "outputs": [
    {
     "name": "stdout",
     "output_type": "stream",
     "text": [
      "  (3, 3)\t1\n",
      "  (0, 0)\t1\n",
      "  (1, 1)\t1\n",
      "  (4, 4)\t1\n",
      "  (2, 2)\t1\n"
     ]
    }
   ],
   "source": [
    "# sparse identity matrix\n",
    "E = scipy.sparse.eye(5, 5, 0, dtype=numpy.int32, format=\"dok\" )\n",
    "print(E)"
   ]
  },
  {
   "cell_type": "code",
   "execution_count": 18,
   "metadata": {
    "collapsed": false
   },
   "outputs": [
    {
     "name": "stdout",
     "output_type": "stream",
     "text": [
      "  (2, 1)\t0.403419\n",
      "  (0, 3)\t0.985453\n",
      "  (3, 3)\t0.943079\n",
      "  (0, 4)\t0.577726\n",
      "  (2, 4)\t0.466106\n"
     ]
    }
   ],
   "source": [
    "# sparse random matrix\n",
    "R = scipy.sparse.rand(5,5,density=0.2, format=\"coo\", dtype=numpy.float32)\n",
    "print(R)"
   ]
  },
  {
   "cell_type": "markdown",
   "metadata": {},
   "source": [
    "### Check if the matrix is sparse\n",
    "\n",
    "When you want to check whether or not the matrix is a sparse format then the following function can be helpful:\n",
    "- scipy.sparse.issparse(x)\n",
    "- scipy.sparse.isspmatrix(x)\n",
    "- scipy.sparse.isspmatrix_dok(x) / scipy.sparse.isspmatrix_lil(x) / scipy.sparse.isspmatrix_coo(x): the function is the same for all different formats and everytime the three letters abbreviations are used. \n",
    "\n",
    "All these functions return True in the case where the matrix is sparse and of the particular type and False otherwise."
   ]
  },
  {
   "cell_type": "code",
   "execution_count": 22,
   "metadata": {
    "collapsed": false
   },
   "outputs": [
    {
     "name": "stdout",
     "output_type": "stream",
     "text": [
      "Is sparse? True\n",
      "Is Dictionary of Keys format? False\n",
      "Is Coordinate lists format? True\n"
     ]
    }
   ],
   "source": [
    "R = scipy.sparse.rand(5,5,density=0.2, format=\"coo\", dtype=numpy.float32)\n",
    "print(\"Is sparse?\", scipy.sparse.issparse(R))\n",
    "print(\"Is Dictionary of Keys format?\", scipy.sparse.isspmatrix_dok(R))\n",
    "print(\"Is Coordinate lists format?\", scipy.sparse.isspmatrix_coo(R) )"
   ]
  },
  {
   "cell_type": "markdown",
   "metadata": {},
   "source": [
    "### Using the sparse representations\n",
    "\n",
    "You can use the matrices with sparse represenations in normal mathematical transformations, such as addition, substraction, division, multiplication, and matrix power.\n",
    "\n",
    "http://docs.scipy.org/doc/scipy/reference/sparse.html"
   ]
  },
  {
   "cell_type": "code",
   "execution_count": 33,
   "metadata": {
    "collapsed": false
   },
   "outputs": [
    {
     "name": "stdout",
     "output_type": "stream",
     "text": [
      "x=\n",
      "  (1, 3)\t0.205726\n",
      "  (0, 2)\t0.605727\n",
      "y=\n",
      "  (3, 4)\t0.863683\n",
      "  (1, 1)\t0.337697\n",
      "x+y=\n",
      "  (1, 3)\t0.205726\n",
      "  (3, 4)\t0.863683\n",
      "  (0, 2)\t0.605727\n",
      "  (1, 1)\t0.337697\n",
      "x*y=\n",
      "  (1, 4)\t0.177682\n"
     ]
    }
   ],
   "source": [
    "# mathematical transformations with sparse matrices\n",
    "x = scipy.sparse.rand(5,5,density=0.1, format=\"dok\", dtype=numpy.float32)\n",
    "y = scipy.sparse.rand(5,5,density=0.1, format=\"dok\", dtype=numpy.float32)\n",
    "print(\"x=\")\n",
    "print(x)\n",
    "print(\"y=\")\n",
    "print(y)\n",
    "print(\"x+y=\")\n",
    "print(x+y)\n",
    "print(\"x*y=\")\n",
    "print(x*y)"
   ]
  }
 ],
 "metadata": {
  "kernelspec": {
   "display_name": "Python 3",
   "language": "python",
   "name": "python3"
  },
  "language_info": {
   "codemirror_mode": {
    "name": "ipython",
    "version": 3
   },
   "file_extension": ".py",
   "mimetype": "text/x-python",
   "name": "python",
   "nbconvert_exporter": "python",
   "pygments_lexer": "ipython3",
   "version": "3.4.2"
  }
 },
 "nbformat": 4,
 "nbformat_minor": 0
}
