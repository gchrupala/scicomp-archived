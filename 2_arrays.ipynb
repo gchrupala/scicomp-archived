{
 "cells": [
  {
   "cell_type": "markdown",
   "metadata": {},
   "source": [
    "# 2. Arrays and shapes"
   ]
  },
  {
   "cell_type": "markdown",
   "metadata": {},
   "source": [
    "Make sure that you always first import numpy! Otherwise the functions will not work at all."
   ]
  },
  {
   "cell_type": "code",
   "execution_count": 2,
   "metadata": {
    "collapsed": true
   },
   "outputs": [],
   "source": [
    "import numpy"
   ]
  },
  {
   "cell_type": "markdown",
   "metadata": {},
   "source": [
    "### Create an array\n",
    "An array is a list of elements. \n",
    "An array in Python can be created from a pre-specified list or a tuple with the array() function. \n",
    "Make sure you do not forget the [ ] or ( ) brackets! \n",
    "An n-dimensional array can also be created based on a combination of tuples and lists.\n",
    "\n",
    "For more information about creating arrays: \n",
    "http://docs.scipy.org/doc/numpy/user/basics.creation.html"
   ]
  },
  {
   "cell_type": "code",
   "execution_count": 8,
   "metadata": {
    "collapsed": false
   },
   "outputs": [
    {
     "name": "stdout",
     "output_type": "stream",
     "text": [
      "[1 3 5 7 9]\n",
      "[2 4 6 8]\n"
     ]
    }
   ],
   "source": [
    "# create array from a list:\n",
    "print( numpy.array([1, 3, 5, 7, 9]) )\n",
    "\n",
    "# create array from a tuple:\n",
    "print( numpy.array((2, 4, 6, 8)) )"
   ]
  },
  {
   "cell_type": "markdown",
   "metadata": {},
   "source": [
    "Also, an empty array or an array with only zeros or ones can be created with the empty(), zeros() and ones() functions. \n",
    "For this, the shape of the array is the input for the function. \n",
    "More about the shape and dimensionality is explained in the next section. \n",
    "The content of the empty array can be everything and is not always the same."
   ]
  },
  {
   "cell_type": "code",
   "execution_count": 9,
   "metadata": {
    "collapsed": false
   },
   "outputs": [
    {
     "name": "stdout",
     "output_type": "stream",
     "text": [
      "[ 0.  0.  0.]\n",
      "[ 0.  0.  0.  0.]\n",
      "[ 1.  1.  1.  1.  1.]\n"
     ]
    }
   ],
   "source": [
    "# create an empty array:\n",
    "print( numpy.empty((3)) )\n",
    "\n",
    "# create array with only zeros:\n",
    "print( numpy.zeros((4)) )\n",
    "\n",
    "# create array with only ones:\n",
    "print (numpy.ones((5)) )"
   ]
  },
  {
   "cell_type": "markdown",
   "metadata": {},
   "source": [
    "If we want to create an array with random numbers we can use the numpy.random.random() function, this gives an array with numbers between 0 and 1. Let x be an array with numbers between 0 and 1, and in order to get an array with values between some numbers a and b, then we can use the transformation y=a+(b-a)*x."
   ]
  },
  {
   "cell_type": "code",
   "execution_count": 11,
   "metadata": {
    "collapsed": false
   },
   "outputs": [
    {
     "name": "stdout",
     "output_type": "stream",
     "text": [
      "[ 0.19233279  0.3567885   0.44667283  0.57190252]\n",
      "[ 7.13343011  7.78418765  9.39459221  9.54447269]\n"
     ]
    }
   ],
   "source": [
    "# create array with random numbers between 0 and 1:\n",
    "print(numpy.random.random(4))\n",
    "\n",
    "# create array with random numbers between 5 and 10:\n",
    "print( 5+(10-5)*numpy.random.random(4) )"
   ]
  },
  {
   "cell_type": "markdown",
   "metadata": {},
   "source": [
    "The identity matrix is a n by n matrix with all zeros, but with ones on the diagonal. \n",
    "The identity matrix can be created with the eye(n) function. Since the identity matrix is always a square only one input parameter is needed to create a 2-dimensional matrix."
   ]
  },
  {
   "cell_type": "code",
   "execution_count": 12,
   "metadata": {
    "collapsed": false
   },
   "outputs": [
    {
     "name": "stdout",
     "output_type": "stream",
     "text": [
      "[[ 1.  0.]\n",
      " [ 0.  1.]]\n"
     ]
    }
   ],
   "source": [
    "# create n by n identity matrix:\n",
    "print( numpy.eye(2))"
   ]
  },
  {
   "cell_type": "markdown",
   "metadata": {},
   "source": [
    "Numpy has a function which is similar to the range() function which is the arange(a, b, s), where a is the start point, b is the end point and s is the step size. The function can have floats as inputs.\n",
    "Another function to create a range is the linspace(a, b, i) function, where a is the start point, b is the end point, and i is the number of items.\n",
    "The advantage of the linspace function is that you can specify the number of items and the advantage of the arange function is that you can specify the step size."
   ]
  },
  {
   "cell_type": "code",
   "execution_count": 14,
   "metadata": {
    "collapsed": false
   },
   "outputs": [
    {
     "name": "stdout",
     "output_type": "stream",
     "text": [
      "[  1.    3.1   5.2   7.3   9.4  11.5]\n",
      "[ 0.    0.25  0.5   0.75  1.    1.25  1.5   1.75  2.  ]\n"
     ]
    }
   ],
   "source": [
    "# use fixed step size:\n",
    "x = numpy.arange(1, 11.9, 2.1)\n",
    "print(x)\n",
    "\n",
    "# use fixed number of items:\n",
    "y = numpy.linspace(0, 2, 9)\n",
    "print(y)"
   ]
  },
  {
   "cell_type": "markdown",
   "metadata": {},
   "source": [
    "### Dimensions\n",
    "The array class in Python is called \"ndarray\". \n",
    "An array can be 1-dimensional, which is often called a (row or column) vector. When only one input is specified it will be a row vector in Python. In order to create a column vector, we can use for example: zeros((m,1)).\n",
    "An array can be 2-dimensional, where m is the number of rows and n the number of columns. \n",
    "In case of a 2-dimensional array, the first dimension is the rows and the second dimension is the columns.\n",
    "In order to create a array with m rows and n columns, we can use for example: zeros((m,n)).\n",
    "\n",
    "An array can be n-dimensional. It might be hard to understand the contents if the array is displayed. \n",
    "For example, take an array with dimensions (2, 3, 4) then this will be displayed as if it is a list with two 3 by 4 matrices.\n",
    "The first 3 by 4 matrix will display the elements of the 2nd and 3rd dimension in case the index of the first dimension is 0 and the second 3 by 4 matrix will display the elements of the 2nd and 3rd dimension in case the index of the second dimension is 1.\n",
    "\n",
    "If an array is a 1-dimensional list and you want to create from this list an higher dimensional array, you can use the reshape() function. Notice that the the total number of elements in the array have to be the same as the product of the lengths of the dimensions. For example, if the length of the list is 24, then we can reshape it to a 4 by 6 matrix, but also to a 2 by 3 by 4 matrix.\n",
    "Let's assume we have a 2 by 3 by 4 matrix, which we will call z. Since the index in Python starts at 0, the first element of the array is z[0,0,0], but the last element of the array is not z[2, 3, 4] but it is z[1, 2, 3]! \n",
    "\n",
    "Let x be the ndarray. Some important functions to get insight in the dimensionality:\n",
    "- x.ndim : the number of dimensions.\n",
    "- x.shape : the length of each dimension.\n",
    "- x.size : the total number of elements.\n"
   ]
  },
  {
   "cell_type": "code",
   "execution_count": 16,
   "metadata": {
    "collapsed": false
   },
   "outputs": [
    {
     "name": "stdout",
     "output_type": "stream",
     "text": [
      "[ 0.  0.]\n",
      "[1 2 3]\n",
      "[[ 2  4  6]\n",
      " [ 8 10 12]]\n",
      "[[1 3]\n",
      " [2 4]]\n"
     ]
    }
   ],
   "source": [
    "# create one dimensional arrays:\n",
    "print( numpy.zeros((2)) )\n",
    "print( numpy.array([1, 2, 3]) )\n",
    "\n",
    "# create two dimensonal arrays:\n",
    "print( numpy.arange(2, 14, 2).reshape((2, 3)) )\n",
    "print( numpy.array([[1, 3], [2, 4]]) )"
   ]
  },
  {
   "cell_type": "code",
   "execution_count": 17,
   "metadata": {
    "collapsed": false
   },
   "outputs": [
    {
     "name": "stdout",
     "output_type": "stream",
     "text": [
      "[[[ 0  1  2  3]\n",
      "  [ 4  5  6  7]\n",
      "  [ 8  9 10 11]]\n",
      "\n",
      " [[12 13 14 15]\n",
      "  [16 17 18 19]\n",
      "  [20 21 22 23]]]\n",
      "Number of dimensions: 3\n",
      "Length of each dimension: (2, 3, 4)\n",
      "The total number of elements: 24\n",
      "First element: 0\n",
      "Last element: 23\n",
      "Some element: 13\n"
     ]
    }
   ],
   "source": [
    "# create three dimensional arrays:\n",
    "z1 = numpy.arange(24).reshape((2, 3, 4))\n",
    "z2 = numpy.array([[[1, 3], [2, 4]], [[11, 13], [12, 14]] ])\n",
    "\n",
    "# dimensions/shape/size of the array:\n",
    "print(z1)\n",
    "print(\"Number of dimensions:\", z1.ndim)\n",
    "print(\"Length of each dimension:\", z1.shape)\n",
    "print(\"The total number of elements:\", z1.size)\n",
    "\n",
    "# access some elements in the three dimensional array:\n",
    "print(\"First element:\", z1[0, 0, 0])\n",
    "print(\"Last element:\", z1[1, 2, 3])\n",
    "print(\"Some element:\", z1[1, 0, 1])"
   ]
  },
  {
   "cell_type": "markdown",
   "metadata": {},
   "source": [
    "### Data types\n",
    "\n",
    "Data types were already discussed in the previous notebook, but here is a small recap. \n",
    "\n",
    "One array can only have one data type. \n",
    "The data type of the array can be obtained with the x.dtype function. \n",
    "In case you mix different data types, the elements are converted to the same type. If you want, you can specify the data type of the array when you create the array with the array() function then you can use the dtype argument.\n",
    "The data type of the array can be:\n",
    "- float (float64)\n",
    "- integer (int32 or int64)\n",
    "- boolean (bool)\n",
    "- complex (complex128)\n",
    "- string (<U3 or <U64)\n",
    "\n",
    "Let assume you created an array z with the datatype integer and you want to convert it afterwards to the data type float, then you can use the astype() function. For example, z.astype(float) to convert z to the data type float."
   ]
  },
  {
   "cell_type": "markdown",
   "metadata": {},
   "source": [
    "### Structured arrays\n",
    "\n",
    "In principle, you can mix data types as long as you specify which part of the array has which data type. This type of array is often called a structured array. Parts of the array are indicated with a named field. There are a lot of different ways to specify a structured array.\n",
    "\n",
    "One of the possible ways to specify a structured array is to use a list of tuples as dtype. \n",
    "For every column in the array a tuple is specified in which a name is specified and a data type.\n",
    "For example: dtype = [('name of column 1', 'data type of column 1'), ('name of column 2', 'data type of column 2')]. \n",
    "Where the name of the column and the data type are strings.\n",
    "\n",
    "One can access the rows of the array by normal indexing and one can access the columns of the array by using the column names that are specified when the array was created.\n",
    "\n",
    "Another possibility of structured arrays is that inside the array another array can be located as record. \n",
    "\n",
    "For more information about structured arrays: \n",
    "http://docs.scipy.org/doc/numpy-1.10.1/user/basics.rec.html#structured-arrays"
   ]
  },
  {
   "cell_type": "code",
   "execution_count": null,
   "metadata": {
    "collapsed": true
   },
   "outputs": [],
   "source": [
    "# create a structured array\n",
    "x = numpy.array([(1, 2.45, 4+6j), (2, 3.45, 8+12j)], dtype=[('col1', 'int8'),('col2', 'float32'), ('col3', 'complex128')])\n",
    "print(x)\n",
    "print(x.dtype)\n",
    "\n",
    "# access one row or column\n",
    "print(x[1])\n",
    "print(x['col2'])"
   ]
  },
  {
   "cell_type": "markdown",
   "metadata": {},
   "source": [
    "### Indexing\n",
    "\n",
    "Basically there are four different ways of indexing:\n",
    "- Linear indexing, which transform the n-dimensional array to a 1-dimensional list. This linear index is returned when the argmin and argmax function are applied to an n-dimensional array. When the shape of the array is known, then we can transform the linear index to the matrix index.\n",
    "- Matrix indexing, which returns for every dimension of the array the index. This is the often used way to access elements in the array. In this case it is important to keep in mind that the index in Python starts at 0, so for every dimensions the index starts at 0 and ends at the length of the dimension - 1. \n",
    "- Boolean indexing, which returns all values in the array for which the index is True.\n",
    "- Indexing with an array of indices. In this case you specify a separate array in which you store the indices as integers and you will return exactly the elements of the array with these indices. \n",
    "\n",
    "For more information about indexing:\n",
    "http://docs.scipy.org/doc/numpy/user/basics.indexing.html\n",
    "\n",
    "\n",
    "### Linear and matrix indexing\n",
    "\n",
    "Indexing in a 1-dimensional matrix is the same as the indexing in a Python list. And if you want to apply something to every element of the array then one simple for-loop over the items can do the trick.\n",
    "\n",
    "Indexing in a n-dimensional matrix has one index for every dimension. To access one element of the array, the index of every dimension should be given. When accessing more than one element, the slicing \":\" can be used, and this works similar as it works with lists, but then you can use the \":\" for every dimension. If no index is given for a dimension, then the : will be given.\n",
    "If the index is [a:b] then indices that are used are a up to but not including b.\n",
    "\n",
    "If you have the linear index and you want to convert it to a matrix index, then you can use the function: numpy.unravel_index().\n",
    "The first argument is the linear index and the second argument is the shape of the array for which you want to transform the index. For example: numpy.unravel_index(linear_index, (2,3)). The function also works on a list of linear indices, and then returns a list of indices in the first dimension and a list of indices in the second dimension.\n"
   ]
  },
  {
   "cell_type": "code",
   "execution_count": 23,
   "metadata": {
    "collapsed": false
   },
   "outputs": [
    {
     "name": "stdout",
     "output_type": "stream",
     "text": [
      "[[[ 0  1  2  3]\n",
      "  [ 4  5  6  7]\n",
      "  [ 8  9 10 11]]\n",
      "\n",
      " [[12 13 14 15]\n",
      "  [16 17 18 19]\n",
      "  [20 21 22 23]]]\n",
      "[[ 7 11]\n",
      " [19 23]]\n",
      "[[ 8  9 10 11]\n",
      " [20 21 22 23]]\n",
      "\n",
      " For a matrix with dimensions (2, 3, 4), the linear index:  10  is equal to matrix index:  (0, 2, 2)\n"
     ]
    }
   ],
   "source": [
    "# indexing in a 3-dimensional array\n",
    "z = numpy.arange(24).reshape((2, 3, 4))\n",
    "print(z)\n",
    "\n",
    "# slices\n",
    "print(z[0:2, 1:3, 3])\n",
    "print(z[:, 2, :])\n",
    "\n",
    "# linear indexing\n",
    "linear_index = 10\n",
    "print(\"\\n For a matrix with dimensions (2, 3, 4), the linear index: \", linear_index, \" is equal to \\\n",
    "matrix index: \", numpy.unravel_index(linear_index, z.shape))\n"
   ]
  },
  {
   "cell_type": "markdown",
   "metadata": {},
   "source": [
    "### Boolean indexing\n",
    "\n",
    "Boolean indexing can be easy when you exactly know which elements of the array you want to have.\n",
    "Then you can create a boolean array with True at the position of the elements you want to have.\n",
    "Most of the time, you will not use this approach, but you will use boolean indexing by specifying a certain condition.\n",
    "The condition will return a True or False for every position in the array and when the condition is True then the corresponding element will be retrieved."
   ]
  },
  {
   "cell_type": "code",
   "execution_count": 30,
   "metadata": {
    "collapsed": false
   },
   "outputs": [
    {
     "name": "stdout",
     "output_type": "stream",
     "text": [
      "Only elements of x for which the value in y is equal to True:  [1 3 5]\n",
      "Only elements of x for which the condition is True:  [4 5]\n"
     ]
    }
   ],
   "source": [
    "# Boolean indexing\n",
    "x = numpy.arange(1, 6)\n",
    "y = numpy.array([True, False, True, False, True ])\n",
    "print(\"Only elements of x for which the value in y is equal to True: \", x[y])\n",
    "\n",
    "# boolean indexing by using a condition\n",
    "print(\"Only elements of x for which the condition is True: \", x[x>3])"
   ]
  },
  {
   "cell_type": "markdown",
   "metadata": {},
   "source": [
    "### Indexing with an array of indices\n",
    "\n",
    "Indexing with an array of indices. In this case you specify a separate array in which you store the indices as integers and you will return exactly the elements of the array with these indices.\n",
    "One advantage of this is that you can explicitly specify the order in which you want to have the values and you can return multiple times the value at a certain position. \n"
   ]
  },
  {
   "cell_type": "code",
   "execution_count": 38,
   "metadata": {
    "collapsed": false
   },
   "outputs": [
    {
     "name": "stdout",
     "output_type": "stream",
     "text": [
      "Array x:  [100 101 102 103 104 105 106 107 108 109 110]\n",
      "Array with indices:  [8 3 8 4 9 3]\n",
      "Indexing with an array of indices will give: [108 103 108 104 109 103]\n"
     ]
    }
   ],
   "source": [
    "x = numpy.arange(100, 111)\n",
    "y = numpy.array([8, 3, 8, 4, 9, 3])\n",
    "print(\"Array x: \", x)\n",
    "print(\"Array with indices: \", y)\n",
    "print(\"Indexing with an array of indices will give:\", x[y])"
   ]
  },
  {
   "cell_type": "markdown",
   "metadata": {},
   "source": [
    "### For loops over arrays\n",
    "\n",
    "Most of the time you want to use arrays to avoid loops, but sometimes you want to use a loop. Then it is important to know how numpy iterates over an array. When a for loop is used to iterate over an array then the first for loop will iterate over the first dimension. When two nested for loops are used, then the loops iterate over the first two dimensions. \n",
    "\n",
    "It is easier to use an example to explain it.\n",
    "When you use a for loop over a 3 dimensional array with shape (2, 3, 4) then you will receive exactly 2 iterations and in each iteration a 3 by 4 array is used. \n",
    "When you use two nested for loops over a 3 dimensional array with shape (2, 3, 4) then you will receive exactly 2*3=6 iterations and in each iteration an array of length 4 is used. \n",
    "\n",
    "When you want to have a for loop over all the elements in the array, then you can better use the flat method instead of nested loops. For example, x.flat. "
   ]
  },
  {
   "cell_type": "code",
   "execution_count": 18,
   "metadata": {
    "collapsed": false
   },
   "outputs": [
    {
     "name": "stdout",
     "output_type": "stream",
     "text": [
      "\n",
      " For loop over the first dimension\n",
      "[[ 0  1  2  3]\n",
      " [ 4  5  6  7]\n",
      " [ 8  9 10 11]]\n",
      "[[12 13 14 15]\n",
      " [16 17 18 19]\n",
      " [20 21 22 23]]\n",
      "\n",
      " For loop over the first and second dimension\n",
      "[0 1 2 3]\n",
      "[4 5 6 7]\n",
      "[ 8  9 10 11]\n",
      "[12 13 14 15]\n",
      "[16 17 18 19]\n",
      "[20 21 22 23]\n",
      "\n",
      " For loop over all elements with the flat method\n",
      "0\n",
      "1\n",
      "2\n",
      "3\n",
      "4\n",
      "5\n",
      "6\n",
      "7\n",
      "8\n",
      "9\n",
      "10\n",
      "11\n",
      "12\n",
      "13\n",
      "14\n",
      "15\n",
      "16\n",
      "17\n",
      "18\n",
      "19\n",
      "20\n",
      "21\n",
      "22\n",
      "23\n"
     ]
    }
   ],
   "source": [
    "# for loop over the first dimension:\n",
    "z = numpy.arange(24).reshape((2, 3, 4))\n",
    "print(\"\\n For loop over the first dimension\")\n",
    "for firstdimension in z:\n",
    "    print(firstdimension)\n",
    "\n",
    "print(\"\\n For loop over the first and second dimension\")\n",
    "# for loop over the first and second dimension:\n",
    "for firstdimension in z:\n",
    "    for seconddimension in firstdimension:\n",
    "        print(seconddimension)\n",
    "     \n",
    "print(\"\\n For loop over all elements with the flat method\")\n",
    "for element in z.flat:\n",
    "    print(element)"
   ]
  },
  {
   "cell_type": "markdown",
   "metadata": {},
   "source": [
    "### Vector stacking\n",
    "\n",
    "Sometimes you want to combine two or more vectors to create an array. This is called vector stacking. Vector stacking can be done in two different ways horizontal and vertical. \n",
    "- horizontal stack: numpy.hstack([x, y, z])\n",
    "- vertical stack: numpy.vstack([x, y, z])"
   ]
  },
  {
   "cell_type": "code",
   "execution_count": 47,
   "metadata": {
    "collapsed": false
   },
   "outputs": [
    {
     "name": "stdout",
     "output_type": "stream",
     "text": [
      "Horizontal stack:  [ 0  1  2  3  4  5  6  7  8  9 10 11 12 13 14]\n",
      "Vertical stack: \n",
      "[[ 0  1  2  3  4]\n",
      " [ 5  6  7  8  9]\n",
      " [10 11 12 13 14]]\n"
     ]
    }
   ],
   "source": [
    "x = numpy.arange(0,5)                     \n",
    "y = numpy.arange(5, 10)   \n",
    "z = numpy.arange(10, 15)\n",
    "print(\"Horizontal stack: \",  numpy.hstack([x,y, z]) )\n",
    "print(\"Vertical stack: \")\n",
    "print( numpy.vstack([x,y, z]))"
   ]
  },
  {
   "cell_type": "markdown",
   "metadata": {},
   "source": [
    "### Split array into vectors\n",
    "\n",
    "The opposite of vector stacking is to split the array into pieces. The first argument is the array and the second argument is the number of pieces to split the array in. It is important that that the number of pieces you want is possible given the number of rows or columns. Two different ways of splitting:\n",
    "- Vertical split: numpy.vsplit(x, 2)\n",
    "- Horizontal split: numpy.hsplit(x, 3)\n"
   ]
  },
  {
   "cell_type": "code",
   "execution_count": 54,
   "metadata": {
    "collapsed": false
   },
   "outputs": [
    {
     "name": "stdout",
     "output_type": "stream",
     "text": [
      "[[ 0  1  2  3]\n",
      " [ 4  5  6  7]\n",
      " [ 8  9 10 11]\n",
      " [12 13 14 15]]\n",
      "Vertical split: \n",
      "[array([[0, 1, 2, 3],\n",
      "       [4, 5, 6, 7]]), array([[ 8,  9, 10, 11],\n",
      "       [12, 13, 14, 15]])]\n",
      "Horizontal split: \n",
      "[array([[ 0],\n",
      "       [ 4],\n",
      "       [ 8],\n",
      "       [12]]), array([[ 1],\n",
      "       [ 5],\n",
      "       [ 9],\n",
      "       [13]]), array([[ 2],\n",
      "       [ 6],\n",
      "       [10],\n",
      "       [14]]), array([[ 3],\n",
      "       [ 7],\n",
      "       [11],\n",
      "       [15]])]\n"
     ]
    }
   ],
   "source": [
    "x = numpy.arange(16).reshape(4,4)\n",
    "print(x)\n",
    "print(\"Vertical split: \")\n",
    "print(numpy.vsplit(x, 2))\n",
    "print(\"Horizontal split: \")\n",
    "print(numpy.hsplit(x, 4))"
   ]
  },
  {
   "cell_type": "markdown",
   "metadata": {},
   "source": [
    "### Copy of matrix\n",
    "\n",
    "When you do operations on an array, then you have to be careful whether or not the array is copied or only referenced to. When you change something in the copied array, then you have to be careful whether or not also the original array is changed.\n",
    "\n",
    "There are three cases:\n",
    "- No copy at all: only a reference to the existing object. When you change anything then the original array is also changed.\n",
    "- View or shallow copy: different array objects share the same data. When you reshape the array then the change in shape is not shared with the original array, but when you change the data then the change in data is shared with the original array and the original array is also changed. A shallow copy can be made with the y = x.view() function. When you slice an array then only a view is returned and no copy of the data is made.\n",
    "- Deep copy: complete copy of array and data. When you change something in the copied array then the original array remains the same. A deep copy can be made in numpy with the y = x.copy() function. \n",
    "\n"
   ]
  },
  {
   "cell_type": "code",
   "execution_count": 64,
   "metadata": {
    "collapsed": false
   },
   "outputs": [
    {
     "name": "stdout",
     "output_type": "stream",
     "text": [
      "shallow copy:  [[   0    1    2 1000    4]\n",
      " [   5    6    7    8    9]]\n",
      "original:  [   0    1    2 1000    4    5    6    7    8    9]\n"
     ]
    }
   ],
   "source": [
    "# shallow copy\n",
    "a = numpy.arange(10)\n",
    "b = a.view()\n",
    "b.shape = (2,5)\n",
    "b[0, 3] = 1000\n",
    "print(\"shallow copy: \", b)\n",
    "print(\"original: \", a)"
   ]
  },
  {
   "cell_type": "code",
   "execution_count": 67,
   "metadata": {
    "collapsed": false
   },
   "outputs": [
    {
     "name": "stdout",
     "output_type": "stream",
     "text": [
      "deep copy:  [[   0    1]\n",
      " [   2    3]\n",
      " [   4    5]\n",
      " [   6 1000]\n",
      " [   8    9]]\n",
      "original:  [0 1 2 3 4 5 6 7 8 9]\n"
     ]
    }
   ],
   "source": [
    "# deep copy\n",
    "a = numpy.arange(10)\n",
    "c = a.copy()\n",
    "c.shape = (5,2)\n",
    "c[3,1] = 1000\n",
    "print(\"deep copy: \", c)\n",
    "print(\"original: \", a)"
   ]
  },
  {
   "cell_type": "markdown",
   "metadata": {},
   "source": [
    "### Load data set\n",
    "\n",
    "Before you can load a data set you have to make sure that the data set is in the right path. When you want to use the data set in Jupyter you have to make sure that the data set is uploaded to your Jupyter server and is located in the directory of the notebook.\n",
    "\n",
    "Most functions to load a data set need a filename as argument, note that the filename has to have a specific extension. \n",
    "Next to a filename, often also a delimiter is specified, then the delimiter is the character which is used to split the columns. Moreover, a lot of optional arguments can be specified, such as dtype, missing_values, skip_header, and names. The arguments that are available are dependend on the function that is used, so when you want to use a function you can best look up the optional arguments in the reference guide.\n",
    "\n",
    "Loading a data set with Numpy:\n",
    "- numpy.genfromtxt(filename) : this can be used to open .txt files. The advantage of the genfromtxt function is that it can specify how to handle missing values. http://docs.scipy.org/doc/numpy-1.10.0/reference/generated/numpy.genfromtxt.html\n",
    "- numpy.load(filename) : this can be used to open .npy and .npz files. http://docs.scipy.org/doc/numpy-1.10.1/reference/generated/numpy.load.html\n",
    "- numpy.loadtxt(filename): this can be used to open .txt files. http://docs.scipy.org/doc/numpy-1.10.0/reference/generated/numpy.loadtxt.html\n",
    "\n",
    "When you want to load a data set from CSV format then you can use the csv library. You can use the function csv.reader(open(filename.txt), delimiter=' '). See the code block below for an example of the csv library."
   ]
  },
  {
   "cell_type": "code",
   "execution_count": null,
   "metadata": {
    "collapsed": true
   },
   "outputs": [],
   "source": [
    "# The use of the csv library to load a csv file\n",
    "import csv\n",
    "\n",
    "def load_table(path):\n",
    "    reader = csv.reader(open(path), delimiter=' ')\n",
    "    return [ (row[0:-1], row[-1]) for row in reader ]\n",
    "\n",
    "X, Y = zip(*load_table('iris-train.txt'))\n",
    "X = numpy.array(X, dtype='float')"
   ]
  },
  {
   "cell_type": "markdown",
   "metadata": {},
   "source": [
    "### Save data set to file\n",
    "\n",
    "When you want to save an array from numpy as a separate file you always have to specify the filename and the array you want to save and you can use the following functions:\n",
    "- numpy.savetxt(filename, array) : save an array to a text file. Some optional arguments are: delimiter=' ', newline = '\\n', header = ' '. http://docs.scipy.org/doc/numpy-1.10.0/reference/generated/numpy.savetxt.html#numpy.savetxt\n",
    "- numpy.save(filename, array) : save an array to a binary file in numpy .npy format. http://docs.scipy.org/doc/numpy-1.10.0/reference/generated/numpy.save.html#numpy.save\n"
   ]
  },
  {
   "cell_type": "markdown",
   "metadata": {
    "collapsed": true
   },
   "source": [
    "#### Exercise 2.1 Load, transform and save data set\n",
    "\n",
    "Load a data set from the internet, convert some of the data types of the columns, replace the missing values, select a subset of the columns, select a subset of the rows based on a condition, and then save the array to a file.\n",
    "\n",
    "One website where you can find a lot of data sets is:\n",
    "http://archive.ics.uci.edu/ml/datasets.html"
   ]
  },
  {
   "cell_type": "code",
   "execution_count": null,
   "metadata": {
    "collapsed": true
   },
   "outputs": [],
   "source": [
    "# Exercise 2.1\n",
    "\n",
    "\n"
   ]
  }
 ],
 "metadata": {
  "kernelspec": {
   "display_name": "Python 3",
   "language": "python",
   "name": "python3"
  },
  "language_info": {
   "codemirror_mode": {
    "name": "ipython",
    "version": 3
   },
   "file_extension": ".py",
   "mimetype": "text/x-python",
   "name": "python",
   "nbconvert_exporter": "python",
   "pygments_lexer": "ipython3",
   "version": "3.4.2"
  }
 },
 "nbformat": 4,
 "nbformat_minor": 0
}
