{
 "cells": [
  {
   "cell_type": "markdown",
   "metadata": {},
   "source": [
    "# 3. Vectorized operations"
   ]
  },
  {
   "cell_type": "code",
   "execution_count": 2,
   "metadata": {
    "collapsed": true
   },
   "outputs": [],
   "source": [
    "import numpy"
   ]
  },
  {
   "cell_type": "markdown",
   "metadata": {},
   "source": [
    "### Basic operations on arrays with the same shape\n",
    "\n",
    "The basic operations on arrays are applied elementwise.\n",
    "The basic operations are addition, subtraction, multiplication, division and power.\n",
    "The simplest case is when the shapes of the arrays are exactly the same, then an elementwise operation is straightforward. "
   ]
  },
  {
   "cell_type": "code",
   "execution_count": 5,
   "metadata": {
    "collapsed": false
   },
   "outputs": [
    {
     "name": "stdout",
     "output_type": "stream",
     "text": [
      "y - x =  [ -5 -13  22  -6]\n",
      "x + y =  [15 27 82 74]\n",
      "x * y =  [  50  140 1560 1360]\n",
      "x / y =  [ 2.          2.85714286  0.57692308  1.17647059]\n"
     ]
    }
   ],
   "source": [
    "# basic operations between two arrays with the same shape:\n",
    "x = numpy.array([10, 20, 30, 40])\n",
    "y = numpy.array([5, 7, 52, 34])\n",
    "\n",
    "print(\"y - x = \", y - x)\n",
    "print(\"x + y = \", x + y)\n",
    "print(\"x * y = \", x * y)\n",
    "print(\"x / y = \", x / y)"
   ]
  },
  {
   "cell_type": "markdown",
   "metadata": {},
   "source": [
    "### Basic operations on arrays with different shapes\n",
    "\n",
    "Besides operations between arrays of the same shape, also operations between arrays of different shapes are allowed, but are not always possible. Operations on arrays with different shapes is often called broadcasting.\n",
    "\n",
    "There are some different types of broadcasting:\n",
    "- Basic operations between an array and a constant, then there are no restrictions on the shape.\n",
    "- Basic operations between an array and a row vector, then the number of columns in the array has to be the same as the length of the row vector.\n",
    "- Basic operations between an array and a column vector, then the number of rows in the array has to be the same as the length of the column vector.\n",
    "\n",
    "When applying operations between an array and a row or column vector the shapes are still important.\n",
    "For example, let x be a 2 by 3 array, let y be a row vector with 3 elements, and let z be a column vector with 2 elements, then operations are allowed.\n",
    "When applying operations between array x and row vector y, then the operations are applied for each row, and the number of column in the array has to be the same as the length of the row vector.\n",
    "When applying operations between array x and column vector z, then the operations are applied for each column, and the number of rows in the array has to be the same as the length of the column vector. \n",
    "When operations are applied between arrays of different shapes and the number of rows or columns is not the same, then this will return an error message.\n",
    "\n",
    "For more information about Broadcasting:\n",
    "http://docs.scipy.org/doc/numpy/user/basics.broadcasting.html"
   ]
  },
  {
   "cell_type": "code",
   "execution_count": 6,
   "metadata": {
    "collapsed": false
   },
   "outputs": [
    {
     "name": "stdout",
     "output_type": "stream",
     "text": [
      "x - 2 = [18 23 28 33]\n",
      "x * 2 = [40 50 60 70]\n",
      "x **2 =  [ 400  625  900 1225]\n"
     ]
    }
   ],
   "source": [
    "# constant term\n",
    "x = numpy.array([20, 25, 30, 35])\n",
    "print(\"x - 2 = \", x - 2)\n",
    "print(\"x * 2 = \", x * 2)\n",
    "print(\"x **2 = \", x**2)"
   ]
  },
  {
   "cell_type": "code",
   "execution_count": 44,
   "metadata": {
    "collapsed": false
   },
   "outputs": [
    {
     "name": "stdout",
     "output_type": "stream",
     "text": [
      "Operations between x and y which are applied for each row\n",
      "x + y =  [[ 6  7  8]\n",
      " [ 9 10 11]]\n",
      "x * y =  [[ 5 10 15]\n",
      " [20 25 30]]\n",
      "Operations between x and z which are applied for each column\n",
      "x + z =  [[2 3 4]\n",
      " [6 7 8]]\n",
      "x * z =  [[ 1  2  3]\n",
      " [ 8 10 12]]\n"
     ]
    }
   ],
   "source": [
    "# operations between array and vector\n",
    "x = numpy.array([[1, 2, 3], [4, 5, 6]])\n",
    "y = numpy.array([5, 5, 5]) # row vector\n",
    "z = numpy.array([[1], [2]]) # column vector\n",
    "\n",
    "# array and row vector\n",
    "print(\"Operations between x and y which are applied for each row\")\n",
    "print(\"x + y = \", x+y)\n",
    "print(\"x * y = \", x*y)\n",
    "\n",
    "# array and column vector\n",
    "print(\"Operations between x and z which are applied for each column\")\n",
    "print(\"x + z = \", x+z)\n",
    "print(\"x * z = \", x*z)"
   ]
  },
  {
   "cell_type": "markdown",
   "metadata": {},
   "source": [
    "### Applications\n",
    "\n",
    "Interesting applications of operations on vectors are:\n",
    "- Normalization: z = (x - mean(x)) / stdev(x), this is called the z-score and the z-score is roughly in the range between -3 and 3. Normalization is often used before applying machine learning algorithms.\n",
    "- Feature scaling: y = (x - min(x)) / (max(x) - min(x)), this brings the score in the range 0 to 1.\n",
    "- Convertion between different scales of measurements. Some examples: from Fahrenheit to Celsius, or from Dollars to Euros, or from Inches to Centimetres. \n",
    "\n",
    "These transformations can be applied to the whole array, but also to only one column or row. \n",
    "When applying to only one row or column of an array, then indexing can be used to indicate the vector.\n"
   ]
  },
  {
   "cell_type": "code",
   "execution_count": 46,
   "metadata": {
    "collapsed": false
   },
   "outputs": [
    {
     "name": "stdout",
     "output_type": "stream",
     "text": [
      "Normalized:  [[ 0.3848132  -0.81109531  1.4612922   0.35514762 -1.39015771]]\n"
     ]
    }
   ],
   "source": [
    "# normalization\n",
    "x = numpy.random.random((1,5))\n",
    "z = (x - numpy.mean(x)) / numpy.std(x)\n",
    "print(\"Normalized: \", z)"
   ]
  },
  {
   "cell_type": "code",
   "execution_count": 37,
   "metadata": {
    "collapsed": false
   },
   "outputs": [
    {
     "name": "stdout",
     "output_type": "stream",
     "text": [
      "Fahrenheit: [[ 145.89290709   33.99930381  199.26635605  161.82835961]]\n",
      "Celsius: [[ 63.27383727   1.11072434  92.92575336  72.12686645]]\n"
     ]
    }
   ],
   "source": [
    "# transform Fahrenheit to Celsius: C = (F-32)/1.8\n",
    "F = 32+(212-32)*numpy.random.random((1,4))\n",
    "C = (F-32)/1.8\n",
    "print(\"Fahrenheit:\", F)\n",
    "print(\"Celsius:\", C)"
   ]
  },
  {
   "cell_type": "markdown",
   "metadata": {},
   "source": [
    "### Boolean operations on arrays\n",
    "\n",
    "Next to the basic operations also boolean conditions can be applied to the arrays. Then the boolean conditions are applied to every element in the array. A lot of different conditions can be created, such as: equal to (==), not equal to (!=), greater than (>= or >), or smaller than (<= or <). "
   ]
  },
  {
   "cell_type": "code",
   "execution_count": 41,
   "metadata": {
    "collapsed": false
   },
   "outputs": [
    {
     "name": "stdout",
     "output_type": "stream",
     "text": [
      "(x > 15) =  [False  True  True False False  True]\n",
      "(y == 7) =  [ True False False  True False  True]\n"
     ]
    }
   ],
   "source": [
    "# boolean operations on arrays\n",
    "x = numpy.array([10, 20, 30, 14, 15, 16])\n",
    "y = numpy.array([7, 5, 5, 7, 5, 7]) \n",
    "print(\"(x > 15) = \", x>15)\n",
    "print(\"(y == 7) = \", y==7)"
   ]
  },
  {
   "cell_type": "markdown",
   "metadata": {},
   "source": [
    "Next to these boolean conditions there is something called \"Mask\". This mask is a boolean array, used to select only certain elements for an operation. This can be very useful when you want to transform only a part of the array that satisfies a certain condition. This trick uses boolean indexing. The transformation is only applied to the elements in the array where the mask array has value True. The advantage of the mask array over the normal boolean indexing is that you can apply the same condition to multiple different arrays as long as the shape of the arrays is the same."
   ]
  },
  {
   "cell_type": "code",
   "execution_count": 51,
   "metadata": {
    "collapsed": false
   },
   "outputs": [
    {
     "name": "stdout",
     "output_type": "stream",
     "text": [
      "Mask array:  [False  True  True False False  True]\n",
      "Transformed array:  [10 15 15 14 15 15]\n"
     ]
    }
   ],
   "source": [
    "# if we want to replace all element of x that are larger than 15 with 15, we can use mask:\n",
    "x = numpy.array([10, 20, 30, 14, 15, 16])\n",
    "mask = (x > 15)\n",
    "x[mask] = 15\n",
    "print(\"Mask array: \", mask)\n",
    "print(\"Transformed array: \", x)"
   ]
  },
  {
   "cell_type": "markdown",
   "metadata": {},
   "source": [
    "### Mathematical functions applied on vectors"
   ]
  },
  {
   "cell_type": "markdown",
   "metadata": {},
   "source": [
    "A lot of mathematical functions can be applied to arrays and they are applied elementwise, such as:\n",
    "- numpy.sqrt(x): squareroot\n",
    "- numpy.sin(x)\n",
    "- numpy.cos(x)\n",
    "- numpy.tan(x)\n",
    "- numpy.exp(x): exponential\n",
    "- numpy.log(x): natural logarithm"
   ]
  },
  {
   "cell_type": "code",
   "execution_count": 51,
   "metadata": {
    "collapsed": false
   },
   "outputs": [
    {
     "name": "stdout",
     "output_type": "stream",
     "text": [
      "x =  [1 2 3 4]\n",
      "sqrt(x) =  [ 1.          1.41421356  1.73205081  2.        ]\n",
      "sin(x) =  [ 0.84147098  0.90929743  0.14112001 -0.7568025 ]\n",
      "cos(x) =  [ 0.54030231 -0.41614684 -0.9899925  -0.65364362]\n",
      "tan(x) =  [ 1.55740772 -2.18503986 -0.14254654  1.15782128]\n",
      "exp(x) =  [  2.71828183   7.3890561   20.08553692  54.59815003]\n",
      "log(x) =  [ 0.          0.69314718  1.09861229  1.38629436]\n"
     ]
    }
   ],
   "source": [
    "x = numpy.array([1, 2, 3, 4])\n",
    "print(\"x = \", x)\n",
    "print(\"sqrt(x) = \", numpy.sqrt(x))\n",
    "print(\"sin(x) = \", numpy.sin(x) )\n",
    "print(\"cos(x) = \", numpy.cos(x) )\n",
    "print(\"tan(x) = \", numpy.tan(x) )\n",
    "print(\"exp(x) = \", numpy.exp(x) )\n",
    "print(\"log(x) = \", numpy.log(x) )"
   ]
  },
  {
   "cell_type": "markdown",
   "metadata": {},
   "source": [
    "### Summing over an array and finding the minimum or maximum\n",
    "Some other functions that can be applied to the entire array x or to only a dimension are the following functions:\n",
    "- x.sum() and numpy.cumsum(x)\n",
    "- x.min() and x.argmin()\n",
    "- x.max() and x.argmax()\n",
    "\n",
    "These functions have a parameter which is called axis. When axis=0 then sum per column or the minimum per column is returned. When axis=1 then sum per row or the minimum per row is returned. In higher dimensional arrays, the same logic applies. \n",
    "\n",
    "Next to the normal sum function also the cumulative sum function is implemented in Numpy. The cumsum function returns the cumulative sum of the elements along a given axis, the axis can be given as second argument for the function. This cumsum can be useful in probability calculations when one has the probability density function but one need the cumulative density function. \n",
    "\n",
    "One important thing to notice is that when the argmin() or argmax() functions are applied, then the index of the minimum or maximum is returned, but this index is the linear index and not the index in all the dimensions.\n",
    "For example, let x be a 2 by 2 matrix and let the argmin be 1, then this is equivalent with the position (0,1) in the matrix. Another example, let the argmax be 3, then this corresponds to the position (1,1) in the matrix.\n"
   ]
  },
  {
   "cell_type": "code",
   "execution_count": 48,
   "metadata": {
    "collapsed": false
   },
   "outputs": [
    {
     "name": "stdout",
     "output_type": "stream",
     "text": [
      "sum: 26\n",
      "minimum: 5 and index of minimum: 1\n",
      "maximum: 8 and index of maximum: 3\n",
      "\n",
      "column sums: [13 13]\n",
      "row sums: [11 15]\n",
      "minimum per column: [6 5]\n",
      "maximum per row: [6 8]\n"
     ]
    }
   ],
   "source": [
    "x = numpy.array([[6, 5], [7, 8]])\n",
    "\n",
    "# functions applied to the entire array:\n",
    "print(\"sum:\", x.sum())\n",
    "print(\"minimum:\", x.min(), \"and index of minimum:\", x.argmin())\n",
    "print(\"maximum:\", x.max(), \"and index of maximum:\", x.argmax())\n",
    "print()\n",
    "\n",
    "# functions applied to only one dimension of the array:\n",
    "print(\"column sums:\", x.sum(axis=0))\n",
    "print(\"row sums:\", x.sum(axis=1))\n",
    "print(\"minimum per column:\", x.min(axis=0))\n",
    "print(\"maximum per row:\", x.max(axis=1))"
   ]
  },
  {
   "cell_type": "markdown",
   "metadata": {},
   "source": [
    "### Sorting\n",
    "The arrays can be sorted which is similiar as sorting lists in Python. The functions sort() and argsort() can be applied to arrays.\n",
    "When applied to a 2-dimensional array the sort operation will apply per row and therefore also the indices are based on the position in the row."
   ]
  },
  {
   "cell_type": "code",
   "execution_count": 47,
   "metadata": {
    "collapsed": false
   },
   "outputs": [
    {
     "name": "stdout",
     "output_type": "stream",
     "text": [
      "Applied to 1-dimensional array\n",
      "unsorted x: [5 3 6 2 6 8]\n",
      "sorted x:  [2 3 5 6 6 8]\n",
      "indices of argsort(): [3 1 0 2 4 5]\n",
      "\n",
      "Applied to 2-dimensional array\n",
      "unsorted x: [[5 3 6]\n",
      " [2 6 8]]\n",
      "sorted x:  [[3 5 6]\n",
      " [2 6 8]]\n",
      "indices of argsort(): [[1 0 2]\n",
      " [0 1 2]]\n"
     ]
    }
   ],
   "source": [
    "# sorting an 1-dimensional array:\n",
    "print(\"Applied to 1-dimensional array\")\n",
    "x = numpy.array([5, 3, 6, 2, 6, 8])\n",
    "print(\"unsorted x:\", x)\n",
    "y = x.argsort()\n",
    "x.sort()\n",
    "print(\"sorted x: \", x)\n",
    "print(\"indices of argsort():\", y)\n",
    "print()\n",
    "\n",
    "# sorting an 2-dimensional array:\n",
    "print(\"Applied to 2-dimensional array\")\n",
    "x = numpy.array([[5, 3, 6], [2, 6, 8]])\n",
    "print(\"unsorted x:\", x)\n",
    "y = x.argsort()\n",
    "x.sort()\n",
    "print(\"sorted x: \", x)\n",
    "print(\"indices of argsort():\", y)"
   ]
  },
  {
   "cell_type": "markdown",
   "metadata": {},
   "source": [
    "#### Exercise 3.1) Transformation\n",
    "Load the iris train data set. Make sure that the data set is uploaded on your Jupyter server. The features are in array X. The features are the length and the width of the sepals and petals. The lengths and widths are measured in centimetres. Suppose we want to create the following transformations:\n",
    "- For the first feature (sepal lenght in cm) we want to transform it to inches (1 inch = 2,54 cm).\n",
    "- For the second feature (sepal width in cm) we want to transform it to a range in between 0 and 1.\n",
    "- For the third feature (petal length in cm) we want to transform it to a boolean expression indicating whether or not it is larger than the mean.\n",
    "- For the fourth feature (petal width in cm) we want to transform it to the exponential function.\n",
    "\n",
    "Normally, when you will use the features to train an algorithm you will not change every feature from the same metric to different metrics, but most of the time the other way around. Most of the time, you will change features such that they have the same metric and that they are normalized. For now it is a good exercise to practice some transformations.\n"
   ]
  },
  {
   "cell_type": "code",
   "execution_count": null,
   "metadata": {
    "collapsed": true
   },
   "outputs": [],
   "source": [
    "# Exercise 3.1\n",
    "import csv\n",
    "\n",
    "def load_table(path):\n",
    "    reader = csv.reader(open(path), delimiter=' ')\n",
    "    return [ (row[0:-1], row[-1]) for row in reader ]\n",
    "\n",
    "X, Y = zip(*load_table('iris-train.txt'))\n",
    "X = numpy.array(X, dtype='float')\n",
    "\n"
   ]
  },
  {
   "cell_type": "markdown",
   "metadata": {},
   "source": [
    "#### Exercise 3.2) Practice with  2-dimensional arrays\n",
    "Create one 2-dimensional array, which will be called A, you are free to choose the content as long as it is either the integer or float data type.\n",
    "Then try to do the following things:\n",
    "- Compute the total sum of the elements in the array in two ways, first with the sum() function and second with using a loop instead of the sum() function.\n",
    "- Return the minimum of the entire array and the corresponding index, but transform the linear index into a row index and a column index. Think of a general formula to transform the linear index into a two dimensional index. Afterwards, you can check your result with the unravel_index() function.\n",
    "- Create another 2-dimensional array (B) with the same shape of A. Then sort the array A, and then sort array B on the same way as array A. For example, if the element A[1,4] is after sorting in position [0,0], then the element B[1,4] also has to be in position [0,0]. For this you can use the argsort method, see the documentation: http://docs.scipy.org/doc/numpy-1.10.0/reference/generated/numpy.argsort.html"
   ]
  },
  {
   "cell_type": "code",
   "execution_count": null,
   "metadata": {
    "collapsed": true
   },
   "outputs": [],
   "source": [
    "# Exercise 3.2\n",
    "\n"
   ]
  },
  {
   "cell_type": "markdown",
   "metadata": {},
   "source": [
    "### Rounding \n",
    "\n",
    "If you want to round every element in the array then the following rounding functions can be used:\n",
    "- numpy.round(x, decimals = 2 )\n",
    "- numpy.floor(x)\n",
    "- numpy.ceil(x)\n"
   ]
  },
  {
   "cell_type": "code",
   "execution_count": 43,
   "metadata": {
    "collapsed": false
   },
   "outputs": [
    {
     "name": "stdout",
     "output_type": "stream",
     "text": [
      "not rounded: [[ 6.95070703  6.9695847   1.20842674  2.29773688  2.45624574]]\n",
      "round: [[ 6.95  6.97  1.21  2.3   2.46]]\n",
      "floor: [[ 6.  6.  1.  2.  2.]]\n",
      "ceil: [[ 7.  7.  2.  3.  3.]]\n"
     ]
    }
   ],
   "source": [
    "# rounding \n",
    "x = 10*numpy.random.random((1,5))\n",
    "print(\"not rounded:\", x)\n",
    "\n",
    "x1 = numpy.round(x, decimals = 2)\n",
    "print(\"round:\", x1)\n",
    "\n",
    "x2 = numpy.floor(x)\n",
    "print(\"floor:\", x2)\n",
    "\n",
    "x3 = numpy.ceil(x)\n",
    "print(\"ceil:\", x3)"
   ]
  },
  {
   "cell_type": "markdown",
   "metadata": {},
   "source": [
    "### Statistics\n",
    "\n",
    "To apply some basic statistical functions to the numpy array x, the following functions can be useful:\n",
    "- numpy.median(x) : median\n",
    "- numpy.mean(x) : mean\n",
    "- numpy.average(x, axis= , weights= ) : (weighted) average\n",
    "- numpy.std(x) : standard deviation\n",
    "- numpy.var(x) : variance\n",
    "- numpy.corrcoef(x) : Pearson product-moment correlation coefficients\n",
    "- numpy.correlate(x, y) : cross-correlation between two vectors x and y\n",
    "- numpy.cov(x) : covariance matrix\n",
    "\n",
    "These functions can be applied to the entire array, or to only one axis. When applied to one axis, then the parameter axis can be used. Similar functions exists which ignore NAN, these functions are called: nanmedian(), nanmean(), nanstd(), nanvar(). \n",
    "\n",
    "For more statistical functions in numpy: http://docs.scipy.org/doc/numpy/reference/routines.statistics.html"
   ]
  },
  {
   "cell_type": "markdown",
   "metadata": {},
   "source": [
    "### Histograms\n",
    "\n",
    "To create some histograms, not the plots, but the data only, the following functions can be used:\n",
    "- numpy.histogram(x, bins=10 ) : basic histogram\n",
    "- numpy.histogram2d(x, y) : histogram of two vectors x and y\n",
    "- numpy.histogramdd(x) : multidimensional histogram\n",
    "\n",
    "Two arrays are returned, the first array are the frequencies and the second array are the boundaries of the bins in the histogram."
   ]
  },
  {
   "cell_type": "code",
   "execution_count": 71,
   "metadata": {
    "collapsed": false
   },
   "outputs": [
    {
     "name": "stdout",
     "output_type": "stream",
     "text": [
      "Mean:  0.54218218314 and variance:  0.0663362651995\n"
     ]
    },
    {
     "data": {
      "text/plain": [
       "(array([4, 2, 4, 5, 5]),\n",
       " array([ 0.07968814,  0.24726595,  0.41484377,  0.58242158,  0.74999939,\n",
       "         0.91757721]))"
      ]
     },
     "execution_count": 71,
     "metadata": {},
     "output_type": "execute_result"
    }
   ],
   "source": [
    "x = numpy.random.random((4,5))\n",
    "print(\"Mean: \", numpy.mean(x), \"and variance: \", numpy.var(x))\n",
    "\n",
    "# histogram\n",
    "numpy.histogram(x, bins=5)"
   ]
  },
  {
   "cell_type": "markdown",
   "metadata": {},
   "source": [
    "#### Exercise 3.3) Normalization\n",
    "Load the iris train data set. Make sure that the data set is on your Jupyter server. The features of the data set are located in the array X. Then calculate the basic statistics for every feature and then normalize the features."
   ]
  },
  {
   "cell_type": "code",
   "execution_count": null,
   "metadata": {
    "collapsed": true
   },
   "outputs": [],
   "source": [
    "# Exercise 3.3\n",
    "import csv\n",
    "\n",
    "def load_table(path):\n",
    "    reader = csv.reader(open(path), delimiter=' ')\n",
    "    return [ (row[0:-1], row[-1]) for row in reader ]\n",
    "\n",
    "X, Y = zip(*load_table('iris-train.txt'))\n",
    "X = numpy.array(X, dtype='float')\n",
    "\n",
    "\n"
   ]
  },
  {
   "cell_type": "markdown",
   "metadata": {},
   "source": [
    "### Differences in values in a vector\n",
    "\n",
    "One simple way to calculate the differences between sequential values in the vector is to use the numpy.diff(x) function. A very useful application is to locate the positions in the vector where the value changes in a very large vector with a lot of equal values."
   ]
  },
  {
   "cell_type": "code",
   "execution_count": 54,
   "metadata": {
    "collapsed": false
   },
   "outputs": [
    {
     "name": "stdout",
     "output_type": "stream",
     "text": [
      "[ 2  1  1  5 -8]\n"
     ]
    }
   ],
   "source": [
    "x = numpy.array([1, 3, 4, 5, 10, 2])\n",
    "y = numpy.diff(x)\n",
    "print(y)"
   ]
  },
  {
   "cell_type": "markdown",
   "metadata": {},
   "source": [
    "#### Exercise 3.4) Number of subsequent equal values\n",
    "\n",
    "One application of the numpy.diff function is that you can use it to count the number of subsequent equal values. Take x = [10, 10, 10, 20, 20, 20, 20, 30, 30, 40, 40, 40, 40, 40] and return the unique values and the number of subsequent equal values. "
   ]
  },
  {
   "cell_type": "code",
   "execution_count": null,
   "metadata": {
    "collapsed": true
   },
   "outputs": [],
   "source": [
    "# Exercise 3.4\n",
    "\n",
    "\n"
   ]
  }
 ],
 "metadata": {
  "kernelspec": {
   "display_name": "Python 3",
   "language": "python",
   "name": "python3"
  },
  "language_info": {
   "codemirror_mode": {
    "name": "ipython",
    "version": 3
   },
   "file_extension": ".py",
   "mimetype": "text/x-python",
   "name": "python",
   "nbconvert_exporter": "python",
   "pygments_lexer": "ipython3",
   "version": "3.4.2"
  }
 },
 "nbformat": 4,
 "nbformat_minor": 0
}
