{
 "cells": [
  {
   "cell_type": "markdown",
   "metadata": {},
   "source": [
    "# 4. Vectorizing loops using linear algebra"
   ]
  },
  {
   "cell_type": "code",
   "execution_count": 2,
   "metadata": {
    "collapsed": true
   },
   "outputs": [],
   "source": [
    "import numpy"
   ]
  },
  {
   "cell_type": "markdown",
   "metadata": {},
   "source": [
    "### Basic linear algebra terms\n",
    "\n",
    "Inside Numpy a lot of linear algebra functions are implemented. Some of them are in numpy.linalg (but not all). "
   ]
  },
  {
   "cell_type": "markdown",
   "metadata": {},
   "source": [
    "###Transpose\n",
    "\n",
    "For an m by n matrix A, the transpose of A is the n by m matrix $A^T$ where the columns of $A^T$ are formed from the corresponding rows of A. If we have a 2-dimensional matrix A, then taking the transpose will change the rows and columns. So, the first row of A is equal to the first column of A transpose. More general, element (i,j) in A is equal to element (j,i) in A transpose. In mathematical notation,  $A^T$  is the transpose of matrix A. \n",
    "\n",
    "\n",
    "\n",
    "One more advanced application for which this can be useful is when you have a document term matrix, but you want to have the corresponding term document matrix, then you do not have to compute the term document matrix (which takes a long time for large matrices), but you can simply take the transpose.\n",
    "\n",
    "Some rules applying to transposes:\n",
    "- $A_{i, j}^T = A_{j, i} $ for all i, j.\n",
    "- $(A^T)^T = A$.\n",
    "- $(A+B)^T = A^T + B^T$.\n",
    "- $(c*A)^T = c*A^T$ for scalar c.\n",
    "- $(A*B)^T = B^T * A^T$ where the dot product is used.\n",
    "\n",
    "In Numpy the transpose of matrix A can be found with the numpy.transpose(A) function."
   ]
  },
  {
   "cell_type": "code",
   "execution_count": 11,
   "metadata": {
    "collapsed": false
   },
   "outputs": [
    {
     "name": "stdout",
     "output_type": "stream",
     "text": [
      "[[1 3]\n",
      " [2 4]]\n",
      "[[ 5  8]\n",
      " [ 6  9]\n",
      " [ 7 10]]\n"
     ]
    }
   ],
   "source": [
    "A = numpy.array([[1, 2], [3, 4]])\n",
    "print(numpy.transpose(A))\n",
    "\n",
    "B = numpy.array([[5, 6, 7], [8, 9, 10]])\n",
    "print(numpy.transpose(B))"
   ]
  },
  {
   "cell_type": "markdown",
   "metadata": {},
   "source": [
    "### Matrix multiplication / dot product\n",
    "\n",
    "There are two different ways of matrix multiplication, which are elementwise multiplication and the dot product. The elementwise matrix multiplication is easy and will work whenever the shape of the arrays is the same. \n",
    "\n",
    "The mathematical definition of the dot product of two vectors A = [A1, A2, A3] and B = [B1, B2, B3] is equal to: $A1*B1 + A2*B2 + A3*B3$. In case the dot product between two arrays, let's say the m by n matrix A and the n by p matrix B, this is applied to every combination of rows in A and columns in B and the resulting matrix has the dimensionality of m rows and p columns. Note that in order to apply the dot product, the number of columns is A has to be the same as the number of rows in B. This means that when taking the dot product between two vectors, the first vector has to be a row vector with n elements, and the second vector has to be a column vector with n elements.\n",
    "\n",
    "This is easiest explained when applying it to a small example.\n",
    "Let x = [[1, 2], [3, 4]] and y = [[5, 6], [7, 8]]. \n",
    "When taking the dot product between two 2 by 2 arrays, then the result of the dot product is a 2 by 2 array, let's call this matrix R. The element at position (i,j) of the matrix can be computed by taking the dot product of the two vectors $x[i, :] * y[:, j]$. For the matrices x and y, the dot product is computed as follows:\n",
    "- $R[0,0] = x[0, :] * y[:, 0] = [1, 2] * [5, 7] = 1*5 + 2*7 = 19$\n",
    "- $R[0,1] = x[0, :] * y[:, 1] = [1, 2] * [6, 8] = 1*6 + 2*8 = 22$\n",
    "- $R[1,0] = x[1, :] * y[:, 0] = [3, 4] * [5, 7] = 3*5 + 4*7 = 43$\n",
    "- $R[1,1] = x[1, :] * y[:, 1] = [3, 4] * [6, 8] = 3*6 + 4*8 = 50$ \n",
    "\n",
    "Some rules for dot products:\n",
    "- $(A*B)_{i,j} = a_{i, 1} * b_{1, j} + a_{i, 2}*b_{2, j} + ... + a_{i, n}*b_{n, j}$ for all i, j.\n",
    "- $A*B$ is not equal to $B*A$ in general (there are exceptions where $A*B=B*A$).\n",
    "- $A*I = A$ where I is the indentity matrix.\n",
    "- if $A*B = A*C$ then you cannot conclude that B=C in general.\n",
    "- if $A*B = 0$ then you cannot conclude that A=0 or B=0 in general. \n",
    "\n",
    "When multiplying two vectors, then this can be done elementwise, but also the inner product or the outer product can be taken. Let u and v be two column vectors with both length n.\n",
    "- Innerproduct = $u^T * v$ which results in a 1 by 1 matrix.\n",
    "- Outerproduct = $u * v^T$ which results in a n by n matrix.\n",
    "\n",
    "In order to get the matrix dot product in Numpy, we can use the function dot(). There are two ways to create the dot product between two arrays:\n",
    "- x.dot(y)\n",
    "- numpy.dot(x,y)"
   ]
  },
  {
   "cell_type": "code",
   "execution_count": 12,
   "metadata": {
    "collapsed": false
   },
   "outputs": [
    {
     "name": "stdout",
     "output_type": "stream",
     "text": [
      "[[19 22]\n",
      " [43 50]]\n",
      "[[19 22]\n",
      " [43 50]]\n"
     ]
    }
   ],
   "source": [
    "x = numpy.array([[1, 2], [3, 4]])\n",
    "y = numpy.array([[5, 6], [7, 8]])\n",
    "\n",
    "# two ways to create the dot product:\n",
    "print( x.dot(y) )\n",
    "print( numpy.dot(x, y) )"
   ]
  },
  {
   "cell_type": "code",
   "execution_count": 5,
   "metadata": {
    "collapsed": false
   },
   "outputs": [
    {
     "name": "stdout",
     "output_type": "stream",
     "text": [
      "A*B= [[14  3]\n",
      " [-2 -6]]\n",
      "B*A= [[10  2]\n",
      " [29 -2]]\n"
     ]
    }
   ],
   "source": [
    "# A*B != B*A\n",
    "A = numpy.array([[5, 1], [3, -2]])\n",
    "B = numpy.array([[2, 0], [4, 3]])\n",
    "print(\"A*B=\", numpy.dot(A, B))\n",
    "print(\"B*A=\", numpy.dot(B, A))"
   ]
  },
  {
   "cell_type": "markdown",
   "metadata": {},
   "source": [
    "#### Exercise 4.1) Element wise product and dot product\n",
    "Create two 2 by 3 arrays, which are called A and B. Where the contents of A are random numbers between 1 and 11 and the contents of B are the numbers 1 up to 6. First try to multiply the arrays elementwise and then try to multiply the arrays with the dot product. Which error gives the dot product and why is the dot product not working? Can you think of an operation on one of the matrices that can fix the problem?"
   ]
  },
  {
   "cell_type": "code",
   "execution_count": null,
   "metadata": {
    "collapsed": true
   },
   "outputs": [],
   "source": [
    "# Exercise 4.1\n",
    "\n"
   ]
  },
  {
   "cell_type": "markdown",
   "metadata": {},
   "source": [
    "#### Exercise 4.2) Transpose and dot product\n",
    "Create two matrices (A and B) which are not square matrices such that you can calculate the dot product. Then calculate the following things: $(A*B)^T$ and $B^T * A^T$ where * is the dot product. What do you notice?"
   ]
  },
  {
   "cell_type": "code",
   "execution_count": null,
   "metadata": {
    "collapsed": true
   },
   "outputs": [],
   "source": [
    "# Exercise 4.2\n",
    "\n"
   ]
  },
  {
   "cell_type": "markdown",
   "metadata": {},
   "source": [
    "### Determinant of a matrix\n",
    "\n",
    "The determinant of a 2 by 2 matrix A= [[a, b], [c, d]] is defined as det(A) = a*d - b*c.\n",
    "For an n by n matrix A the determinant is defined recursively as: $det(A) = \\sum_{j=1}^{n} (-1)^{(1+j)}*a_{1,j} * det(A_{1, j})$. \n",
    "The determinant plays an important role in deciding whether the inverse of a matrix exists.\n",
    "\n",
    "Some important rules:\n",
    "- $det(A) = det(A^T)$.\n",
    "- $det(A*B) = det(A) * det(B)$\n",
    "- When matrix A is a triangular matrix, then the determinant is simply the product of the diagonal entries.\n",
    "\n",
    "In Numpy the determination can be calculated with the numpy.linalg.det(x) function."
   ]
  },
  {
   "cell_type": "code",
   "execution_count": 17,
   "metadata": {
    "collapsed": false
   },
   "outputs": [
    {
     "name": "stdout",
     "output_type": "stream",
     "text": [
      "Determinant:  0.492720213507\n"
     ]
    }
   ],
   "source": [
    "x = numpy.random.random((3,3))\n",
    "print(\"Determinant: \", numpy.linalg.det(x) )"
   ]
  },
  {
   "cell_type": "markdown",
   "metadata": {},
   "source": [
    "### Inverse of a matrix\n",
    "\n",
    "Recall from mathematics that the inverse of a number c is equal to $c^{-1} = 1/c$ and that $c*c^{-1} = 1$. For a matrix the inverse can be explained in a similar way. Let A be an n by n square matrix, then the inverse is $A^{-1}$. A matrix for which the inverse exists is called invertible or nonsingular. The inverse of a matrix plays an important role in solving a system of linear equations.\n",
    "\n",
    "Not every matrix is invertible. The requirements are:\n",
    "- the matrix has to be a square matrix\n",
    "- the determinant has to be non-zero.\n",
    "\n",
    "Some useful tricks for the inverse of a matrix:\n",
    "- $A*A^{-1} = I$ and $A^{-1}*A = I$ where I is the identity matrix.\n",
    "- $(A^{-1})^{-1} = A$\n",
    "- $(A*B)^{-1} = B^{-1}*A^{-1}$\n",
    "- $(A^T)^{-1} = (A^{-1})^T$\n",
    "- if $A$ is invertible then also $A^T$ is invertible\n",
    "- if $A*B = I$ then A and B are both invertible with $A^{-1} = B$ and $B^{-1} = A$. \n",
    "\n",
    "In Numpy the inverse of a matrix is calculated with the numpy.linalg.inv(x) function. Note that an error message is given when trying to compute the inverse of non-square matrix or a matrix with determinant 0. \n"
   ]
  },
  {
   "cell_type": "code",
   "execution_count": 16,
   "metadata": {
    "collapsed": false,
    "scrolled": true
   },
   "outputs": [
    {
     "name": "stdout",
     "output_type": "stream",
     "text": [
      "Inverse:  [[ 2.17351931  0.19055387 -1.8432118 ]\n",
      " [ 0.07780786 -0.40123657  1.02157781]\n",
      " [-2.245071    0.90572821  1.79337212]]\n"
     ]
    }
   ],
   "source": [
    "x = numpy.random.random((3,3))\n",
    "print(\"Inverse: \", numpy.linalg.inv(x) )"
   ]
  },
  {
   "cell_type": "markdown",
   "metadata": {},
   "source": [
    "#### Exercise 4.3) Determinant and inverse\n",
    "Try to create a 2 by 2 matrix for which the determinant is equal to zero and then try to compute the inverse. When the determinant of a matrix is equal to zero, then the inverse has to give you an error message. Can you try to understand this error message? and after that fix the matrix such that the inverse exists. Hint: there is a simplified formula to calculate the determinant of a 2 by 2 matrix and using this formula you can easily choose the numbers in the matrix."
   ]
  },
  {
   "cell_type": "code",
   "execution_count": null,
   "metadata": {
    "collapsed": true
   },
   "outputs": [],
   "source": [
    "# Exercise 4.3\n",
    "\n"
   ]
  },
  {
   "cell_type": "markdown",
   "metadata": {},
   "source": [
    "### Trace\n",
    "\n",
    "The trace of a matrix is the sum of the diagonal element and is often denoted by tr(A). The trace only exists for square matrices. For two n by n matrices A and B the following holds: $tr(A*B) = tr(B*A)$. In Numpy the trace can be computed with the numpy.trace(x) function. "
   ]
  },
  {
   "cell_type": "code",
   "execution_count": 15,
   "metadata": {
    "collapsed": false
   },
   "outputs": [
    {
     "name": "stdout",
     "output_type": "stream",
     "text": [
      "Trace:  1.76711712487\n"
     ]
    }
   ],
   "source": [
    "x = numpy.random.random((3,3))\n",
    "print(\"Trace: \", numpy.trace(x) )"
   ]
  },
  {
   "cell_type": "markdown",
   "metadata": {},
   "source": [
    "### Norm\n",
    "\n",
    "The norm of a vector can be explained as the length or size of the vector. The norm of vector v is denoted as $ \\| v \\|$. The norm is always non-negative. The matrix norm is a natural extension of the notion of a vector norm to matrices. \n",
    "\n",
    "Rules for norms:\n",
    "- $ \\| c*v \\| = |c| * \\| v \\|$ for vector v and constant c. \n",
    "- $  \\| u + v \\| \\leq \\|u\\| + \\|v\\|$ for vectors u and v.\n",
    "- if $ \\| v \\| = 0$ then v is the zero vector.\n",
    "\n",
    "Different types of norms:\n",
    "- Euclidean norm ($l_{2}$ norm) : $\\| v \\|_{2} = \\sqrt{(v_{1}^{2} + ... + v_{n}^{2})}$. For the Euclidean norm the following formula is valid $ \\| v \\| = \\sqrt{v * v} $ where the dot product is used.\n",
    "- Manhattan norm / taxicab norm ($l_{1}$ norm): $\\|v\\|_{1} = \\sum_{i=1}^{n} | v_{i} |$. \n",
    "- P-norm ($l_{p}$ norm): $\\|v\\|_{p} = (\\sum_{i=1}^{n} | v_{i} | ^{p})^{1/p} $. \n",
    "\n",
    "The norm is often used to calculate the distances between points. The distance between points is used in a lot of algorithms, such as the k-Nearest Neighbors algorithm or the k-Means clustering algorithm. \n",
    "The Euclidean distance between two points p and q is denoted as $ d(p,q) = \\sqrt{ \\sum_{i=1}^{n} (p_{i} - q_{i} )^2 } $\n",
    "When we want to calculate the Euclidean distance between two points (represented as vectors) p and q then we can calculate the Euclidean norm $\\| p - q \\|$ instead. \n",
    "\n",
    "In Numpy, the norm of an array can be calculated with the numpy.linalg.norm(x, ord= , axis= ) function. Where ord is the order of the norm and axis is the axis of x along which to compute the vector norms. When ord=1 then the Manhattan norm is given and when ord=2 then the Euclidean norm is given. For example, when you have a 2-dimensional matrix and you specify axis=0 then the norm is calculated for every column vector of the matrix, and when you specify axis=1 then the norm is calculated for every row vector of the matrix."
   ]
  },
  {
   "cell_type": "code",
   "execution_count": 26,
   "metadata": {
    "collapsed": false
   },
   "outputs": [
    {
     "name": "stdout",
     "output_type": "stream",
     "text": [
      "Norm:  [ 1.31483906  0.74548479  0.6448735 ]\n",
      "Distance between points p and q is:  1.41421356237\n"
     ]
    }
   ],
   "source": [
    "# norm of a matrix is calculated as the norm for every vector\n",
    "x = numpy.random.random((2,3))\n",
    "print(\"Norm: \", numpy.linalg.norm(x, ord=2, axis = 0) )\n",
    "\n",
    "# calculate the Euclidean distance between two points\n",
    "p = numpy.array([0, 1, 1])\n",
    "q = numpy.array([1, 0, 1])\n",
    "print(\"Distance between points p and q is: \", numpy.linalg.norm((p-q), ord=2))"
   ]
  },
  {
   "cell_type": "markdown",
   "metadata": {},
   "source": [
    "#### Exercise 4.4) Euclidean distances\n",
    "Load the iris training data set (make sure that the data set is uploaded to your Jupyter server). \n",
    "The array X contains the features and Y contains the labels. \n",
    "Take a subset of n data points. Then calculate the pairwise distances between the data points based on the Euclidean distance. You can save the results in an array D, where D(i,j) is the Euclidean distance between data point i and j. Find the two closest data points, and check whether or not the corresponding label is the same. "
   ]
  },
  {
   "cell_type": "code",
   "execution_count": null,
   "metadata": {
    "collapsed": true
   },
   "outputs": [],
   "source": [
    "# Exercise 4.4\n",
    "import csv\n",
    "\n",
    "def load_table(path):\n",
    "    reader = csv.reader(open(path), delimiter=' ')\n",
    "    return [ (row[0:-1], row[-1]) for row in reader ]\n",
    "\n",
    "X, Y = zip(*load_table('iris-train.txt'))\n",
    "X = numpy.array(X, dtype='float')\n",
    "\n",
    "\n",
    "\n"
   ]
  },
  {
   "cell_type": "markdown",
   "metadata": {},
   "source": [
    "### Matrix rank\n",
    "\n",
    "The rank of a matrix is the number of linearly independent columns or rows. \n",
    "Two vectors are linearly independent when they are not a linear combination of each other.\n",
    "A matrix has a row rank and a column rank, but it is proven that the row rank is always equal to the column rank. (https://en.wikipedia.org/wiki/Rank_(linear_algebra)#Proofs_that_column_rank_.3D_row_rank)\n",
    "\n",
    "For a matrix with full matrix rank, the rank is exactly equal to either the number of columns or the number of rows, depending on which number is smallest.\n",
    "An example of a full matrix rank is the identity matrix, because no column can be written as a linear combination of the other columns. \n",
    "An array with zeros has rank 0. When you add a column with only zeros then this will not increase the rank of the array. \n",
    "\n",
    "The rank of an array can be obtained with the numpy.linalg.matrix_rank(x) function."
   ]
  },
  {
   "cell_type": "code",
   "execution_count": 37,
   "metadata": {
    "collapsed": false
   },
   "outputs": [
    {
     "name": "stdout",
     "output_type": "stream",
     "text": [
      "Full rank:  4\n",
      "Rank:  2\n",
      "Rank of matrix with zeros:  0\n"
     ]
    }
   ],
   "source": [
    "# full matrix rank\n",
    "x = numpy.eye(4)\n",
    "print(\"Full rank: \", numpy.linalg.matrix_rank(x))\n",
    "\n",
    "# rank is lower than the number of columns \n",
    "# because column 1 is a multiple of column 3\n",
    "y = numpy.array([[2, 3, 4], [ 3, 4, 6], [4, 5, 8]])\n",
    "print(\"Rank: \", numpy.linalg.matrix_rank(y))\n",
    "\n",
    "# rank of zeros matrix\n",
    "z = numpy.zeros(3)\n",
    "print(\"Rank of matrix with zeros: \", numpy.linalg.matrix_rank(z))"
   ]
  },
  {
   "cell_type": "markdown",
   "metadata": {},
   "source": [
    "#### References for more linear algebra\n",
    "\n",
    "There are more linear algebra functions available in Numpy, which are not discussed here. For example:\n",
    "- to compute eigenvalues (numpy.linalg.eig(x))\n",
    "- to get the singular value decomposition (numpy.linalg.svd(x))\n",
    "- to get the Cholesky decomposition (numpy.linalg.cholesky(x))\n",
    "- to get the QR decomposition (numpy.linalg.qr(x))\n",
    "- to get the Kronecker product of two arrays (numpy.kron(a,b))\n",
    "- to raise a square matrix to the power n (numpy.linalg.matrix_power(x, n))\n",
    "\n",
    "For an overview of linear algebra functions in Numpy: http://docs.scipy.org/doc/numpy/reference/routines.linalg.html\n",
    "\n",
    "For nice videos that explain linear algebra concepts: https://www.khanacademy.org/math/linear-algebra\n"
   ]
  },
  {
   "cell_type": "markdown",
   "metadata": {},
   "source": [
    "### Solving linear equations\n",
    "\n",
    "The function lin.alg.solve(a, b) solves the linear equation ax = b, with n by n matrix a and vector b of length n. If the system of linear equations has one solution, then this function returns the values for x. Note that sometimes the equation does not have a solution or has an infinite number of solutions, then the function will give an error.\n",
    "\n",
    "The number of solutions can be explained in terms of representing the vectors as lines in space.\n",
    "- Exactly one solution: intersection of the lines in exactly one point. For example x + 6y = 2 and 2x + 5y = 3.\n",
    "- Infinite number of solutions: the lines are the same and intersect at every point. For example x + y = 2 and 2x + 2y = 4.\n",
    "- No solution: the lines are parallel and never intersect. For example x + y = 3 and x + y = 4."
   ]
  },
  {
   "cell_type": "code",
   "execution_count": 12,
   "metadata": {
    "collapsed": false
   },
   "outputs": [
    {
     "name": "stdout",
     "output_type": "stream",
     "text": [
      "[-0.57142857  1.28571429]\n"
     ]
    }
   ],
   "source": [
    "# solve the equation ax = b where a and b are given:\n",
    "# one solution:\n",
    "a = numpy.array([[1, 2], [6, 5]])\n",
    "b = numpy.array([2, 3])\n",
    "x = numpy.linalg.solve(a, b)\n",
    "print(x)"
   ]
  },
  {
   "cell_type": "markdown",
   "metadata": {},
   "source": [
    "### Using vectors instead of loops\n",
    "\n",
    "Sometimes it is computationally faster to use vectors or matrices instead of for-loops, this is process of replacing loops by vectors is called vectorization. The reasons for vectorization are the improvement in computation time, but also the representation in vectors looks more the same as the mathematical expression and the code using vectors is often shorter.\n",
    "\n",
    "In the earlier notebooks, already a lot of functions are explained that can be applied to arrays. To summarize quickly:\n",
    "- basic math functions: sin(), cos(), tan(), exp(), log(), sqrt()\n",
    "- elementwise basic operations: +, -, *, /, **\n",
    "- rounding: round(), floor(), ceil()\n",
    "- creating arrays: arange(), linspace()\n",
    "\n",
    "Instead of loops over the vector sometimes also boolean expression can be used.\n",
    "For example, to return the number of elements that are larger than some value.\n",
    "If you use the sum() function on a boolean, then true gets value 1 and false gets value 0.\n",
    "\n",
    "Some new functions:\n",
    "- numpy.all(x > 5) : check whether all values of a boolean expression are True.\n",
    "- numpy.any() : check whether at least one value of a boolean expression is True.\n",
    "- numpy.isnan(x) : check elementwise if the value is NAN.\n",
    "- numpy.array_equal(x, y) : True if the arrays x and y have the same shape and all elements are equal.\n",
    "\n",
    "Logical functions:\n",
    "- numpy.logical_or(x, y)\n",
    "- numpy.logical_and(x, y)\n",
    "- numpy.logical_not(x, y)\n",
    "- numpy.logical_xor(x, y)\n",
    "- numpy.greater(x, y)\n",
    "- numpy.greater_equal(x, y)\n",
    "- numpy.less(x, y)\n",
    "- numpy.less_equal(x, y)\n",
    "- numpy.equal(x, y)\n",
    "- numpy.not_equal(x, y)\n",
    "\n",
    "For more information: http://docs.scipy.org/doc/numpy-1.10.1/reference/routines.logic.html\n"
   ]
  },
  {
   "cell_type": "code",
   "execution_count": 25,
   "metadata": {
    "collapsed": false
   },
   "outputs": [
    {
     "name": "stdout",
     "output_type": "stream",
     "text": [
      "[[ 5.95438954  9.31409943  0.61419935  9.96956794  8.39844938  2.01331816\n",
      "   5.74881096  8.20373892  0.9470726   8.3182635 ]]\n",
      "Number of elements (x>5.5) using loops :  7\n",
      "Number of elements (x>5.5) without a loop :  7\n"
     ]
    }
   ],
   "source": [
    "# replacing loops by boolean expressions\n",
    "x = 10*numpy.random.random((1, 10))\n",
    "print(x)\n",
    "\n",
    "# number of elements (x > 5.5) using a loop:\n",
    "count = 0\n",
    "for row in x:\n",
    "    for i in row:\n",
    "        if i > 5.5:\n",
    "            count +=1\n",
    "print(\"Number of elements (x>5.5) using loops : \", count)\n",
    "    \n",
    "# without a loop:\n",
    "print(\"Number of elements (x>5.5) without a loop : \", sum(sum((x>5.5))))"
   ]
  },
  {
   "cell_type": "code",
   "execution_count": 34,
   "metadata": {
    "collapsed": false
   },
   "outputs": [
    {
     "name": "stdout",
     "output_type": "stream",
     "text": [
      "classification_accuracy =  0.4\n"
     ]
    }
   ],
   "source": [
    "# calculating the classification accuracy with vector notation:\n",
    "x = numpy.round(numpy.random.random((1,10)))\n",
    "y = numpy.round(numpy.random.random((1,10)))\n",
    "print(\"classification_accuracy = \", numpy.mean(x == y) )"
   ]
  },
  {
   "cell_type": "code",
   "execution_count": 47,
   "metadata": {
    "collapsed": false
   },
   "outputs": [
    {
     "name": "stdout",
     "output_type": "stream",
     "text": [
      "[[ 4.46084051  9.02031445  6.45607306  9.98590398  4.82137951  7.409258\n",
      "   2.43834148  3.97399692  4.46284353  6.57892021]]\n",
      "[[ 6.02473325  9.65725474  4.76754399  5.41789516  0.83517739  1.3057119\n",
      "   7.07213596  3.14885809  2.57510425  2.57419413]]\n",
      "All > 0.1:  True\n",
      "Any > 9:  True\n"
     ]
    }
   ],
   "source": [
    "x = 10*(numpy.random.random((1,10)))\n",
    "y = 10*(numpy.random.random((1,10)))\n",
    "print(x)\n",
    "print(y)\n",
    "print(\"All > 0.1: \", numpy.all(x > 0.1))\n",
    "print(\"Any > 9: \", numpy.any(x > 9))"
   ]
  },
  {
   "cell_type": "markdown",
   "metadata": {},
   "source": [
    "### Searching elements \n",
    "\n",
    "Searching elements in an array which satisfy a certain condition works very similar as boolean indexing, but Numpy has some easy functions to search the elements that satisfy the condition:\n",
    "- numpy.extract(condition, array): extract the elements from the array which satisfy the conditon.\n",
    "- numpy.where(condition, x, y) : return the element either for x or y based on the condition.\n",
    "- numpy.where(condition) : returns the indices for which the condition is True.\n",
    "\n",
    "Search nonzero elements:\n",
    "- numpy.count_nonzero(x) : count the number of nonzero elements.\n",
    "- numpy.nonzero(x) : return the indices of the nonzero elements.\n",
    "\n",
    "http://docs.scipy.org/doc/numpy/reference/routines.sort.html#searching"
   ]
  },
  {
   "cell_type": "markdown",
   "metadata": {},
   "source": [
    "### Tips to speed up calculations\n",
    "\n",
    "Some basic tips to speed up calculations:\n",
    "- Create efficient code by pre-allocating the memory. When inside a loop you extend the array every iteration it will take more time then when you specify the shape of the whole array before the loop. The reason is that adding rows or columns to an array is time-consuming. The best thing is to avoid loops.\n",
    "- Try to prevent unnecessary loops by vectorizing computations. Use vectorized operations if you want to do something for every element in the array or vector. For example, taking the square or the logarithm. \n",
    "- Use boolean indexing with conditions.\n",
    "- Use pre-defined functions such as min, max, sort, all, any, extract.\n",
    "\n",
    "How to measure the elapsed time?\n",
    "With the time library and the time.process_time() function. First call the function to get the start time, and then process all the code and then call the function again to get the end time and then subtract the end time and the start time to get the execution time. See the example below. \n",
    "\n",
    "For more tips and tricks to speed up computations in Numpy:\n",
    "http://ipython-books.github.io/featured-01/\n",
    "\n",
    "For more tips and tricks about data manipulation:\n",
    "http://arogozhnikov.github.io/2015/09/29/NumpyTipsAndTricks1.html"
   ]
  },
  {
   "cell_type": "code",
   "execution_count": 38,
   "metadata": {
    "collapsed": false
   },
   "outputs": [
    {
     "name": "stdout",
     "output_type": "stream",
     "text": [
      "Execution time:  6.317800000132934e-05\n"
     ]
    }
   ],
   "source": [
    "# example how to time your code\n",
    "import time\n",
    "start = time.process_time()\n",
    "# all code here\n",
    "end = time.process_time()\n",
    "print(\"Execution time: \", end-start)\n"
   ]
  },
  {
   "cell_type": "markdown",
   "metadata": {},
   "source": [
    "### 4.5) Speed up calculations\n",
    "\n",
    "Try to make the exercises and make the code as efficient as possible and avoid using loops. \n",
    "- Create an 10000 by 10000 matrix with random numbers between 0 and 1. Then we want to divide all numbers that are larger than 0.5 by 2. You can check the result by computing the mean of the array before and after the operation. Measure the time it takes to run the code.\n",
    "- Create a matrix A = [[11, 12, 13, 14, 15], [21, 22, 23, 24, 25], [31, 32, 33, 34, 35]]. Find the indices for the elements which are multiples of 11 and the elements that are multiples of 11."
   ]
  },
  {
   "cell_type": "code",
   "execution_count": null,
   "metadata": {
    "collapsed": true
   },
   "outputs": [],
   "source": [
    "# Exercise 4.5\n",
    "\n"
   ]
  },
  {
   "cell_type": "markdown",
   "metadata": {},
   "source": [
    "### 4.6) Rounding grades\n",
    "\n",
    "Create a three dimensional matrix with shape (3, 3, 10) and random numbers (float) between 0 and 10. Then assume that these numbers are grades. For the exercises avoid using loops and try to create efficient code.\n",
    "\n",
    "- Now assume that this are the grades for 10 students which did 3 assignments and 3 questions per assignment, then calculate for each student the average grade over all the assignments given that every assignment and every question has equal weight.\n",
    "- Round these grades to halves, except for the numbers between 5 and 6, those are rounded to integers, since a rounded 5.5 is not given as grade. "
   ]
  },
  {
   "cell_type": "code",
   "execution_count": null,
   "metadata": {
    "collapsed": true
   },
   "outputs": [],
   "source": [
    "# Exercise 4.6\n",
    "\n"
   ]
  }
 ],
 "metadata": {
  "kernelspec": {
   "display_name": "Python 3",
   "language": "python",
   "name": "python3"
  },
  "language_info": {
   "codemirror_mode": {
    "name": "ipython",
    "version": 3
   },
   "file_extension": ".py",
   "mimetype": "text/x-python",
   "name": "python",
   "nbconvert_exporter": "python",
   "pygments_lexer": "ipython3",
   "version": "3.4.2"
  }
 },
 "nbformat": 4,
 "nbformat_minor": 0
}
